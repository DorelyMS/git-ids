{
 "cells": [
  {
   "cell_type": "markdown",
   "metadata": {
    "hideCode": false,
    "hidePrompt": false
   },
   "source": [
    "## Base de consumo de agua por manzana en la Ciudad de México."
   ]
  },
  {
   "cell_type": "markdown",
   "metadata": {
    "hideCode": false,
    "hidePrompt": false
   },
   "source": [
    "## Nota aclaratoria\n",
    "\n",
    "\n",
    "Se agrega la información de las variables según la nota aclaratoria de los datos encontrada en: https://datos.cdmx.gob.mx/api/datasets/1.0/consumo-agua/attachments/nota_aclaratoria_xlsx/\n",
    "\n",
    "**Tipos de emisión**\n",
    "\n",
    "* Consumo medido: Tratándose de tomas de agua donde se encuentre instalado o autorizado el medidor de consumo por parte del Sistema de Aguas.\n",
    "* Consumo promedio: El consumo promedio se considerará de la siguiente manera:\n",
    "    - A falta de aparato medidor, en proceso de instalación o por imposibilidad material para ser instalado, dicho consumo promedio corresponderá a la colonia catastral en el que se encuentra el inmueble en que esté instalada la toma, siempre y cuando dicha colonia catastral el número de tomas con servicio medido sea mayor o igual al 70% del total de las tomas existentes en la colonia. El Sistema de Aguas publicará anualmente en la Gaceta Oficial de la Ciudad de México, la lista de las colonias catastrales que vayan contando con un 70% o más tomas con servicio medido, así como el consumo promedio de cada una de ellas en el ejercicio fiscal inmediato anterior.\n",
    "    - Por descompostura del aparato medidor de consumo o cuando exista la imposibilidad de efectuar su lectura, se pagará tomando como base el consumo promedio de los últimos seis bimestres medidos del mismo uso que el actual anteriores al que se factura, sin que exceda de los últimos cinco ejercicios fiscales, quedando fuera de la estadística, el bimestre con facturación más alta.\n",
    "\n",
    "**Uso**\n",
    "\n",
    "* Doméstico: Inmuebles de uso Habitacional.\n",
    "* No Doméstico: Inmuebles de uso no Habitacional.\n",
    "* Mixto: Inmuebles de uso Doméstico y No Doméstico simultáneamente.\n",
    "\n",
    "**Manzana**\n",
    "\n",
    "* Es un segmento de la región que regularmente está delimitado por tres o más calles o límites semejantes, representada por los tres siguientes dígitos del mencionado número de cuenta catastral.\n",
    "\n",
    "**Región**\n",
    "\n",
    "* Circunscripción convencional del territorio de la Ciudad de México determinada con fines de control catastral de los inmuebles, representada por los tres primeros dígitos del número de cuenta catastral asignado por la autoridad fiscal.\n",
    "\n",
    "**Índice de Desarrollo**\n",
    "\n",
    "* Índice de Desarrollo: Construcción estadística mediante variables de tipo socioeconómico derivadas de información oficial, permite diferenciar territorialmente a la población de la Ciudad de México de acuerdo a su nivel de desarrollo económico, agregando la información a nivel manzana.\n",
    "    - Popular: Clasificación que engloba a las manzanas que guardan características socioeconómicas similares y que se tipifican por tener los niveles de desarrollo más bajos de la Ciudad. En esta categoría se agrupa, además, las manzana que se encuentran dentro de la zona rural de la Ciudad de México.\n",
    "    \n",
    "    - Bajo: Clasificación que engloba a las manzanas que guardan características socioeconómicas similares y que se tipifican por tener niveles de desarrollo bajo de la Ciudad.\n",
    "    \n",
    "    - Medio: Clasificación que engloba a las manzanas que guardan características socioeconómicas similares y que se tipifican por tener niveles de desarrollo medio de la Ciudad.\n",
    "    \n",
    "    - Alto: Clasificación que engloba a las manzanas que guardan características socioeconómicas  similares y que se tipifican por tener niveles los más altos niveles de desarrollo de la Ciudad."
   ]
  },
  {
   "cell_type": "markdown",
   "metadata": {
    "hideCode": false,
    "hidePrompt": false
   },
   "source": [
    "## Análisis Exploratorio de Datos de la base de consumo de agua por manzana en la Ciudad de México."
   ]
  },
  {
   "cell_type": "markdown",
   "metadata": {
    "hideCode": false,
    "hidePrompt": false
   },
   "source": [
    "\n",
    "\n",
    "Una vez hecha la carga, limpieza y transformación de la información, se obtuvieron las siguientes variables:\n",
    "\n",
    "**Variables numéricas:**\n",
    "\n",
    "* consumo_total_mixto,     float64\n",
    "* anio,                     int64\n",
    "* consumo_prom_dom,        float64\n",
    "* consumo_total_dom,       float64\n",
    "* consumo_prom_mixto,      float64\n",
    "* consumo_total,           float64\n",
    "* consumo_prom,            float64\n",
    "* consumo_prom_no_dom,     float64\n",
    "* consumo_total_no_dom,    float64\n",
    "* latitud,                 float64\n",
    "* longitud,                float64\n",
    "\n",
    "**Variables categóricas:**\n",
    "\n",
    "* nomgeo,                   object\n",
    "* alcaldia,                 object\n",
    "* colonia,                  object\n",
    "* bimestre,                 object\n",
    "* gid,                      object\n",
    "* indice_des,               object"
   ]
  },
  {
   "cell_type": "markdown",
   "metadata": {
    "hideCode": false,
    "hidePrompt": false
   },
   "source": [
    "Variables que antes tenían los siguientes nombres:"
   ]
  },
  {
   "cell_type": "code",
   "execution_count": 1,
   "metadata": {
    "hideCode": false,
    "hidePrompt": false
   },
   "outputs": [
    {
     "name": "stdout",
     "output_type": "stream",
     "text": [
      "Antes:\n",
      "\n",
      " Index(['Geo Point', 'Geo Shape', 'consumo_total_mixto', 'anio', 'nomgeo',\n",
      "       'consumo_prom_dom', 'consumo_total_dom', 'alcaldia', 'colonia',\n",
      "       'consumo_prom_mixto', 'consumo_total', 'consumo_prom',\n",
      "       'consumo_prom_no_dom', 'bimestre', 'consumo_total_no_dom', 'gid',\n",
      "       'indice_des'],\n",
      "      dtype='object') \n",
      " \n",
      "Ahora:\n",
      "\n",
      " Index(['geo_point', 'geo_shape', 'consumo_total_mixto', 'anio', 'nomgeo',\n",
      "       'consumo_prom_dom', 'consumo_total_dom', 'alcaldia', 'colonia',\n",
      "       'consumo_prom_mixto', 'consumo_total', 'consumo_prom',\n",
      "       'consumo_prom_no_dom', 'bimestre', 'consumo_total_no_dom', 'gid',\n",
      "       'indice_des'],\n",
      "      dtype='object')\n"
     ]
    }
   ],
   "source": [
    "import load_data\n",
    "import clean_data\n",
    "import transform_data\n",
    "import eda\n",
    "\n",
    "datos=load_data.carga_archivo('consumo-agua.csv')\n",
    "clean_data.estandariza_variables(datos)\n",
    "transform_data.separar_variable(datos,'geo_point','latitud','longitud',',')\n",
    "transform_data.eliminar_variable(datos,'geo_point')\n",
    "transform_data.eliminar_variable(datos,'geo_shape')\n",
    "transform_data.cambiar_tipo_variable(datos,'latitud','float64')\n",
    "transform_data.cambiar_tipo_variable(datos,'longitud','float64')\n",
    "transform_data.cambiar_tipo_variable(datos,'bimestre','str')\n",
    "transform_data.cambiar_tipo_variable(datos,'gid','str')\n",
    "transform_data.cambiar_minusculas_variable(datos,'colonia')\n",
    "transform_data.cambiar_minusculas_variable(datos,'alcaldia')\n",
    "transform_data.cambiar_minusculas_variable(datos,'indice_des')\n",
    "transform_data.quitar_acentos(datos)"
   ]
  },
  {
   "cell_type": "markdown",
   "metadata": {
    "hideCode": false,
    "hidePrompt": false
   },
   "source": [
    "Y a las cuales se les aplicó un resúmen estadístico (data profiling), dando por resultado lo siguiente:\n",
    "\n",
    "**Data profiling de las variables numéricas:**"
   ]
  },
  {
   "cell_type": "code",
   "execution_count": 2,
   "metadata": {
    "hideCode": false,
    "hidePrompt": false
   },
   "outputs": [
    {
     "data": {
      "text/html": [
       "<div>\n",
       "<style scoped>\n",
       "    .dataframe tbody tr th:only-of-type {\n",
       "        vertical-align: middle;\n",
       "    }\n",
       "\n",
       "    .dataframe tbody tr th {\n",
       "        vertical-align: top;\n",
       "    }\n",
       "\n",
       "    .dataframe thead th {\n",
       "        text-align: right;\n",
       "    }\n",
       "</style>\n",
       "<table border=\"1\" class=\"dataframe\">\n",
       "  <thead>\n",
       "    <tr style=\"text-align: right;\">\n",
       "      <th></th>\n",
       "      <th>consumo_total_mixto</th>\n",
       "      <th>anio</th>\n",
       "      <th>consumo_prom_dom</th>\n",
       "      <th>consumo_total_dom</th>\n",
       "      <th>consumo_prom_mixto</th>\n",
       "      <th>consumo_total</th>\n",
       "      <th>consumo_prom</th>\n",
       "      <th>consumo_prom_no_dom</th>\n",
       "      <th>consumo_total_no_dom</th>\n",
       "      <th>latitud</th>\n",
       "      <th>longitud</th>\n",
       "    </tr>\n",
       "  </thead>\n",
       "  <tbody>\n",
       "    <tr>\n",
       "      <td>max</td>\n",
       "      <td>23404.440000</td>\n",
       "      <td>2019.0</td>\n",
       "      <td>7796.410000</td>\n",
       "      <td>95060.690000</td>\n",
       "      <td>11702.220000</td>\n",
       "      <td>119726.940000</td>\n",
       "      <td>89691.773438</td>\n",
       "      <td>89691.773438</td>\n",
       "      <td>119726.940000</td>\n",
       "      <td>19.579103</td>\n",
       "      <td>-98.950469</td>\n",
       "    </tr>\n",
       "    <tr>\n",
       "      <td>min</td>\n",
       "      <td>0.000000</td>\n",
       "      <td>2019.0</td>\n",
       "      <td>0.000000</td>\n",
       "      <td>0.000000</td>\n",
       "      <td>0.000000</td>\n",
       "      <td>0.000000</td>\n",
       "      <td>0.000000</td>\n",
       "      <td>0.000000</td>\n",
       "      <td>0.000000</td>\n",
       "      <td>19.135867</td>\n",
       "      <td>-99.337703</td>\n",
       "    </tr>\n",
       "    <tr>\n",
       "      <td>mean</td>\n",
       "      <td>174.359929</td>\n",
       "      <td>2019.0</td>\n",
       "      <td>29.132386</td>\n",
       "      <td>1186.263611</td>\n",
       "      <td>50.636234</td>\n",
       "      <td>1695.847222</td>\n",
       "      <td>111.217399</td>\n",
       "      <td>126.760172</td>\n",
       "      <td>436.060309</td>\n",
       "      <td>19.392273</td>\n",
       "      <td>-99.132896</td>\n",
       "    </tr>\n",
       "    <tr>\n",
       "      <td>std</td>\n",
       "      <td>312.663596</td>\n",
       "      <td>0.0</td>\n",
       "      <td>64.565925</td>\n",
       "      <td>2771.038307</td>\n",
       "      <td>130.408673</td>\n",
       "      <td>3555.697457</td>\n",
       "      <td>1069.949262</td>\n",
       "      <td>1095.817805</td>\n",
       "      <td>2126.152162</td>\n",
       "      <td>0.070549</td>\n",
       "      <td>0.057890</td>\n",
       "    </tr>\n",
       "    <tr>\n",
       "      <td>q25</td>\n",
       "      <td>0.000000</td>\n",
       "      <td>2019.0</td>\n",
       "      <td>18.690547</td>\n",
       "      <td>161.635000</td>\n",
       "      <td>0.000000</td>\n",
       "      <td>340.952500</td>\n",
       "      <td>23.010139</td>\n",
       "      <td>6.275417</td>\n",
       "      <td>10.980000</td>\n",
       "      <td>19.344073</td>\n",
       "      <td>-99.172484</td>\n",
       "    </tr>\n",
       "    <tr>\n",
       "      <td>median</td>\n",
       "      <td>79.940000</td>\n",
       "      <td>2019.0</td>\n",
       "      <td>26.414248</td>\n",
       "      <td>604.185000</td>\n",
       "      <td>33.451667</td>\n",
       "      <td>896.175000</td>\n",
       "      <td>31.693818</td>\n",
       "      <td>19.280000</td>\n",
       "      <td>54.055000</td>\n",
       "      <td>19.392910</td>\n",
       "      <td>-99.135196</td>\n",
       "    </tr>\n",
       "    <tr>\n",
       "      <td>q75</td>\n",
       "      <td>233.320000</td>\n",
       "      <td>2019.0</td>\n",
       "      <td>36.246563</td>\n",
       "      <td>1261.445000</td>\n",
       "      <td>61.216548</td>\n",
       "      <td>1808.902500</td>\n",
       "      <td>45.484917</td>\n",
       "      <td>54.186875</td>\n",
       "      <td>230.430000</td>\n",
       "      <td>19.446818</td>\n",
       "      <td>-99.096633</td>\n",
       "    </tr>\n",
       "    <tr>\n",
       "      <td>skew</td>\n",
       "      <td>21.765355</td>\n",
       "      <td>0.0</td>\n",
       "      <td>74.818629</td>\n",
       "      <td>12.523204</td>\n",
       "      <td>43.600444</td>\n",
       "      <td>10.998260</td>\n",
       "      <td>43.382682</td>\n",
       "      <td>40.716543</td>\n",
       "      <td>22.507368</td>\n",
       "      <td>-0.220968</td>\n",
       "      <td>0.124723</td>\n",
       "    </tr>\n",
       "    <tr>\n",
       "      <td>kurt</td>\n",
       "      <td>1419.360189</td>\n",
       "      <td>0.0</td>\n",
       "      <td>7663.654738</td>\n",
       "      <td>248.041305</td>\n",
       "      <td>3263.991441</td>\n",
       "      <td>195.877528</td>\n",
       "      <td>2599.541185</td>\n",
       "      <td>2364.161672</td>\n",
       "      <td>798.074926</td>\n",
       "      <td>-0.329997</td>\n",
       "      <td>0.033179</td>\n",
       "    </tr>\n",
       "    <tr>\n",
       "      <td>count</td>\n",
       "      <td>62775.000000</td>\n",
       "      <td>71102.0</td>\n",
       "      <td>66282.000000</td>\n",
       "      <td>66282.000000</td>\n",
       "      <td>62775.000000</td>\n",
       "      <td>71102.000000</td>\n",
       "      <td>71102.000000</td>\n",
       "      <td>71102.000000</td>\n",
       "      <td>71102.000000</td>\n",
       "      <td>71102.000000</td>\n",
       "      <td>71102.000000</td>\n",
       "    </tr>\n",
       "    <tr>\n",
       "      <td>uniques</td>\n",
       "      <td>24339.000000</td>\n",
       "      <td>1.0</td>\n",
       "      <td>52060.000000</td>\n",
       "      <td>47051.000000</td>\n",
       "      <td>31911.000000</td>\n",
       "      <td>56015.000000</td>\n",
       "      <td>62214.000000</td>\n",
       "      <td>37440.000000</td>\n",
       "      <td>27336.000000</td>\n",
       "      <td>22930.000000</td>\n",
       "      <td>22930.000000</td>\n",
       "    </tr>\n",
       "    <tr>\n",
       "      <td>missings</td>\n",
       "      <td>8327.000000</td>\n",
       "      <td>0.0</td>\n",
       "      <td>4820.000000</td>\n",
       "      <td>4820.000000</td>\n",
       "      <td>8327.000000</td>\n",
       "      <td>0.000000</td>\n",
       "      <td>0.000000</td>\n",
       "      <td>0.000000</td>\n",
       "      <td>0.000000</td>\n",
       "      <td>0.000000</td>\n",
       "      <td>0.000000</td>\n",
       "    </tr>\n",
       "    <tr>\n",
       "      <td>prop_missings</td>\n",
       "      <td>11.711344</td>\n",
       "      <td>0.0</td>\n",
       "      <td>6.778994</td>\n",
       "      <td>6.778994</td>\n",
       "      <td>11.711344</td>\n",
       "      <td>0.000000</td>\n",
       "      <td>0.000000</td>\n",
       "      <td>0.000000</td>\n",
       "      <td>0.000000</td>\n",
       "      <td>0.000000</td>\n",
       "      <td>0.000000</td>\n",
       "    </tr>\n",
       "  </tbody>\n",
       "</table>\n",
       "</div>"
      ],
      "text/plain": [
       "               consumo_total_mixto     anio  consumo_prom_dom  \\\n",
       "max                   23404.440000   2019.0       7796.410000   \n",
       "min                       0.000000   2019.0          0.000000   \n",
       "mean                    174.359929   2019.0         29.132386   \n",
       "std                     312.663596      0.0         64.565925   \n",
       "q25                       0.000000   2019.0         18.690547   \n",
       "median                   79.940000   2019.0         26.414248   \n",
       "q75                     233.320000   2019.0         36.246563   \n",
       "skew                     21.765355      0.0         74.818629   \n",
       "kurt                   1419.360189      0.0       7663.654738   \n",
       "count                 62775.000000  71102.0      66282.000000   \n",
       "uniques               24339.000000      1.0      52060.000000   \n",
       "missings               8327.000000      0.0       4820.000000   \n",
       "prop_missings            11.711344      0.0          6.778994   \n",
       "\n",
       "               consumo_total_dom  consumo_prom_mixto  consumo_total  \\\n",
       "max                 95060.690000        11702.220000  119726.940000   \n",
       "min                     0.000000            0.000000       0.000000   \n",
       "mean                 1186.263611           50.636234    1695.847222   \n",
       "std                  2771.038307          130.408673    3555.697457   \n",
       "q25                   161.635000            0.000000     340.952500   \n",
       "median                604.185000           33.451667     896.175000   \n",
       "q75                  1261.445000           61.216548    1808.902500   \n",
       "skew                   12.523204           43.600444      10.998260   \n",
       "kurt                  248.041305         3263.991441     195.877528   \n",
       "count               66282.000000        62775.000000   71102.000000   \n",
       "uniques             47051.000000        31911.000000   56015.000000   \n",
       "missings             4820.000000         8327.000000       0.000000   \n",
       "prop_missings           6.778994           11.711344       0.000000   \n",
       "\n",
       "               consumo_prom  consumo_prom_no_dom  consumo_total_no_dom  \\\n",
       "max            89691.773438         89691.773438         119726.940000   \n",
       "min                0.000000             0.000000              0.000000   \n",
       "mean             111.217399           126.760172            436.060309   \n",
       "std             1069.949262          1095.817805           2126.152162   \n",
       "q25               23.010139             6.275417             10.980000   \n",
       "median            31.693818            19.280000             54.055000   \n",
       "q75               45.484917            54.186875            230.430000   \n",
       "skew              43.382682            40.716543             22.507368   \n",
       "kurt            2599.541185          2364.161672            798.074926   \n",
       "count          71102.000000         71102.000000          71102.000000   \n",
       "uniques        62214.000000         37440.000000          27336.000000   \n",
       "missings           0.000000             0.000000              0.000000   \n",
       "prop_missings      0.000000             0.000000              0.000000   \n",
       "\n",
       "                    latitud      longitud  \n",
       "max               19.579103    -98.950469  \n",
       "min               19.135867    -99.337703  \n",
       "mean              19.392273    -99.132896  \n",
       "std                0.070549      0.057890  \n",
       "q25               19.344073    -99.172484  \n",
       "median            19.392910    -99.135196  \n",
       "q75               19.446818    -99.096633  \n",
       "skew              -0.220968      0.124723  \n",
       "kurt              -0.329997      0.033179  \n",
       "count          71102.000000  71102.000000  \n",
       "uniques        22930.000000  22930.000000  \n",
       "missings           0.000000      0.000000  \n",
       "prop_missings      0.000000      0.000000  "
      ]
     },
     "execution_count": 2,
     "metadata": {},
     "output_type": "execute_result"
    }
   ],
   "source": [
    "eda.tabla_estadisticos_descriptivos_variables_numericas(datos)"
   ]
  },
  {
   "cell_type": "markdown",
   "metadata": {
    "hideCode": false,
    "hidePrompt": false
   },
   "source": [
    "**Hallazgos:**\n",
    "\n",
    "* Identificamos que los valores máximos de las variables de consumo son signicativamente más grandes que el cuantil del 75%, lo cual indica que existen valores atípicos con consumos extremadamente altos.\n",
    "* Observamos que el valor mínimo de las variables de consumo es cero lo cual indicaría que no hay una medición en algunas de las manzanas.\n",
    "* La media del consumo total en establecimientos domésticos es superior al consumo total en no domésticos y establecimientos mixtos.\n",
    "* Sin embargo, la media del consumo promedio en establecimientos no domésticos es la más grande, seguido de los mixtos y por último, los  domésticos. \n",
    "* El consumo total siempre es mayor o igual al consumo promedio ya que basados en la nota aclaratoria de los datos, el consumo promedio se considera cuando no hay un aparato medidor instalado o por descomportura que imposibilite la lectura del consumo.\n",
    "* Las desviaciones estándar son altas respecto a la media debido a los valores atípicos que identificamos en los máximos.\n",
    "* El quantil 25% del consumo de establecimientos mixtos es cero, lo que pudiera indicar que se omitió el reporte de consumo en esas manzanas.\n",
    "* En general, observamos amplias diferencias entre las medias y las medianas de los consumos. Esto sugiere que la distribución de las variables no es simétrica con respecto a la media.\n",
    "* La mediana siempre es menor a la media, lo cual significa que la distribución de las variables tienen sesgo positivo (están sesgadas a la derecha). Adicionalmente, esto se puede corroborar con el coeficiente de simetría (skew) que siempre es mayor a cero en todas las variables.\n",
    "* Dados los coeficientes de curtosis (kurt) mayores a cero, notamos que todas las variables son leptocúrticas.\n",
    "* Sólo en los consumos mixtos y domésticos se encontraron valores faltantes. La proporción de missings en establecimientos mixtos supera el 10% del total de los registros.\n",
    "* En ningún caso, se encontraron valores faltantes en las variables de consumo de establecimientos no domésticos, lo cual puede ser un error ya que esto implica que en todas las manzanas siempre hay establecimientos de este tipo (pero sabemos que esto no pasa en manzanas exclusivas para zonas residenciales)."
   ]
  },
  {
   "cell_type": "markdown",
   "metadata": {
    "hideCode": false,
    "hidePrompt": false
   },
   "source": [
    "**Data profiling de las variables categóricas:**"
   ]
  },
  {
   "cell_type": "code",
   "execution_count": 3,
   "metadata": {
    "hideCode": false,
    "hidePrompt": false,
    "scrolled": true
   },
   "outputs": [
    {
     "data": {
      "text/html": [
       "<div>\n",
       "<style scoped>\n",
       "    .dataframe tbody tr th:only-of-type {\n",
       "        vertical-align: middle;\n",
       "    }\n",
       "\n",
       "    .dataframe tbody tr th {\n",
       "        vertical-align: top;\n",
       "    }\n",
       "\n",
       "    .dataframe thead th {\n",
       "        text-align: right;\n",
       "    }\n",
       "</style>\n",
       "<table border=\"1\" class=\"dataframe\">\n",
       "  <thead>\n",
       "    <tr style=\"text-align: right;\">\n",
       "      <th></th>\n",
       "      <th>nomgeo</th>\n",
       "      <th>alcaldia</th>\n",
       "      <th>colonia</th>\n",
       "      <th>bimestre</th>\n",
       "      <th>gid</th>\n",
       "      <th>indice_des</th>\n",
       "    </tr>\n",
       "  </thead>\n",
       "  <tbody>\n",
       "    <tr>\n",
       "      <td>count</td>\n",
       "      <td>71102</td>\n",
       "      <td>71102</td>\n",
       "      <td>71102</td>\n",
       "      <td>71102</td>\n",
       "      <td>71102</td>\n",
       "      <td>71102</td>\n",
       "    </tr>\n",
       "    <tr>\n",
       "      <td>uniques</td>\n",
       "      <td>17</td>\n",
       "      <td>16</td>\n",
       "      <td>1340</td>\n",
       "      <td>3</td>\n",
       "      <td>71102</td>\n",
       "      <td>4</td>\n",
       "    </tr>\n",
       "    <tr>\n",
       "      <td>uniques_list</td>\n",
       "      <td>[Azcapotzalco, Venustiano Carranza, Milpa Alta...</td>\n",
       "      <td>[azcapotzalco, venustiano carranza, milpa alta...</td>\n",
       "      <td>[tierra nueva, san antonio, ex hacienda del ro...</td>\n",
       "      <td>[1, 2, 3]</td>\n",
       "      <td>[10206, 10203, 10211, 10217, 10220, 10252, 102...</td>\n",
       "      <td>[bajo, medio, popular, alto]</td>\n",
       "    </tr>\n",
       "    <tr>\n",
       "      <td>missings</td>\n",
       "      <td>0</td>\n",
       "      <td>0</td>\n",
       "      <td>0</td>\n",
       "      <td>0</td>\n",
       "      <td>0</td>\n",
       "      <td>0</td>\n",
       "    </tr>\n",
       "    <tr>\n",
       "      <td>prop_missings</td>\n",
       "      <td>0</td>\n",
       "      <td>0</td>\n",
       "      <td>0</td>\n",
       "      <td>0</td>\n",
       "      <td>0</td>\n",
       "      <td>0</td>\n",
       "    </tr>\n",
       "  </tbody>\n",
       "</table>\n",
       "</div>"
      ],
      "text/plain": [
       "                                                          nomgeo  \\\n",
       "count                                                      71102   \n",
       "uniques                                                       17   \n",
       "uniques_list   [Azcapotzalco, Venustiano Carranza, Milpa Alta...   \n",
       "missings                                                       0   \n",
       "prop_missings                                                  0   \n",
       "\n",
       "                                                        alcaldia  \\\n",
       "count                                                      71102   \n",
       "uniques                                                       16   \n",
       "uniques_list   [azcapotzalco, venustiano carranza, milpa alta...   \n",
       "missings                                                       0   \n",
       "prop_missings                                                  0   \n",
       "\n",
       "                                                         colonia   bimestre  \\\n",
       "count                                                      71102      71102   \n",
       "uniques                                                     1340          3   \n",
       "uniques_list   [tierra nueva, san antonio, ex hacienda del ro...  [1, 2, 3]   \n",
       "missings                                                       0          0   \n",
       "prop_missings                                                  0          0   \n",
       "\n",
       "                                                             gid  \\\n",
       "count                                                      71102   \n",
       "uniques                                                    71102   \n",
       "uniques_list   [10206, 10203, 10211, 10217, 10220, 10252, 102...   \n",
       "missings                                                       0   \n",
       "prop_missings                                                  0   \n",
       "\n",
       "                                 indice_des  \n",
       "count                                 71102  \n",
       "uniques                                   4  \n",
       "uniques_list   [bajo, medio, popular, alto]  \n",
       "missings                                  0  \n",
       "prop_missings                             0  "
      ]
     },
     "execution_count": 3,
     "metadata": {},
     "output_type": "execute_result"
    }
   ],
   "source": [
    "eda.tabla_estadisticos_descriptivos_variables_categoricas(datos)"
   ]
  },
  {
   "cell_type": "markdown",
   "metadata": {
    "hideCode": false,
    "hidePrompt": false
   },
   "source": [
    "**Hallazgos:**\n",
    "\n",
    "* No se cuenta con valores nulos en la base.\n",
    "* Podemos notar que la variable gid no tiene valores repetidos y podríamos identificarla como un id.\n",
    "* Encontramos que en la variable nomgeo existe un error de captura ya que se encontraron 17 valores únicos en los que se distingue la delegación tlalpan y talpan. Por otro lado, la variable de alcaldias tiene 16 valores únicos y la observación de talpan no existe. Por ello, omitiremos del análisis nomgeo y en su lugar sólo usaremos la de alcaldía.\n",
    "* Se encontraron un total de 1,340 colonias en la base de consumo de agua de CDMX.\n",
    "* La variable indice_des se divide en 4 categorías: alto, medio, bajo y popular.\n",
    "* Sólo se tiene información de los primeros 3 bimestres del año 2019.\n"
   ]
  },
  {
   "cell_type": "markdown",
   "metadata": {},
   "source": [
    "**Histogramas de variables categóricas / Top más repetidos**\n",
    "\n",
    "A continuación se presentan los histogramas de las variables categóricas omitiendo nomgeo (se reemplaza por alcaldía), gid (es el id) y colonia (ya que son 1,340 y no se pueden visualizar en una sola gráfica)."
   ]
  },
  {
   "cell_type": "code",
   "execution_count": 4,
   "metadata": {},
   "outputs": [
    {
     "data": {
      "image/png": "[encoded data removed]",
      "text/plain": [
       "<Figure size 432x288 with 1 Axes>"
      ]
     },
     "metadata": {
      "needs_background": "light"
     },
     "output_type": "display_data"
    }
   ],
   "source": [
    "eda.grafico_histograma_categorica(datos,\"alcaldia\",\"Alcaldías\",\"Conteos\",\"Histograma de Alcaldías\")"
   ]
  },
  {
   "cell_type": "code",
   "execution_count": 5,
   "metadata": {},
   "outputs": [
    {
     "data": {
      "image/png": "[encoded data removed]",
      "text/plain": [
       "<Figure size 432x288 with 1 Axes>"
      ]
     },
     "metadata": {
      "needs_background": "light"
     },
     "output_type": "display_data"
    }
   ],
   "source": [
    "eda.grafico_histograma_categorica(datos,\"bimestre\",\"Bimestre\",\"Conteos\",\"Histograma de Bimestre\")"
   ]
  },
  {
   "cell_type": "code",
   "execution_count": 6,
   "metadata": {},
   "outputs": [
    {
     "data": {
      "image/png": "[encoded data removed]",
      "text/plain": [
       "<Figure size 432x288 with 1 Axes>"
      ]
     },
     "metadata": {
      "needs_background": "light"
     },
     "output_type": "display_data"
    }
   ],
   "source": [
    "eda.grafico_histograma_categorica(datos,\"indice_des\",\"Índice de Desarrollo\",\"Conteos\",\"Histograma de Índice de Desarrollo\")"
   ]
  },
  {
   "cell_type": "markdown",
   "metadata": {
    "hideCode": false,
    "hidePrompt": false
   },
   "source": [
    "Respecto a lo anterior, podemos hacernos las siguientes **preguntas:**\n",
    "\n",
    "1. ¿Cómo es el consumo de agua promedio por manzana en cada alcaldía?\n",
    "2. ¿Se mantiene el nivel de consumo de agua en colonias de una misma alcaldía?\n",
    "3. ¿Entre más alto es el índice de desarrollo, mayor el consumo de agua?\n",
    "4. ¿El mayor consumo de agua se da en los establecimientos mixtos? ¿Cómo es el consumo de agua por cada tipo?\n",
    "5. ¿Hay diferencias significativas en el consumo de agua total por bimestre?\n",
    "6. ¿Existe correlación entre las variables de consumo de agua?\n",
    "\n",
    "Para responderlas y poder comprender más los datos se realizaron las siguientes **gráficas:**\n"
   ]
  },
  {
   "cell_type": "code",
   "execution_count": 7,
   "metadata": {
    "hideCode": false,
    "hidePrompt": false
   },
   "outputs": [
    {
     "data": {
      "image/png": "[encoded data removed]",
      "text/plain": [
       "<Figure size 432x288 with 1 Axes>"
      ]
     },
     "metadata": {
      "needs_background": "light"
     },
     "output_type": "display_data"
    }
   ],
   "source": [
    "eda.grafico_barplot_orden_decreciente(datos,'alcaldia','consumo_total','Alcaldía','consumo de agua total','Consumo de agua promedio por manzana en cada alcaldía')"
   ]
  },
  {
   "cell_type": "markdown",
   "metadata": {
    "hideCode": false,
    "hidePrompt": false
   },
   "source": [
    "En la cual podemos observar que el consumo de agua total promedio por manzana es superior en la alcaldía de Cuajimalpa, seguida por Miguel Hidalgo. Mientras que Milpa Alta y Tlahuac son las delegaciones con menor consumo."
   ]
  },
  {
   "cell_type": "code",
   "execution_count": 8,
   "metadata": {},
   "outputs": [
    {
     "data": {
      "text/html": [
       "<div>\n",
       "<style scoped>\n",
       "    .dataframe tbody tr th:only-of-type {\n",
       "        vertical-align: middle;\n",
       "    }\n",
       "\n",
       "    .dataframe tbody tr th {\n",
       "        vertical-align: top;\n",
       "    }\n",
       "\n",
       "    .dataframe thead th {\n",
       "        text-align: right;\n",
       "    }\n",
       "</style>\n",
       "<table border=\"1\" class=\"dataframe\">\n",
       "  <thead>\n",
       "    <tr style=\"text-align: right;\">\n",
       "      <th></th>\n",
       "      <th></th>\n",
       "      <th>consumo_total</th>\n",
       "    </tr>\n",
       "    <tr>\n",
       "      <th>colonia</th>\n",
       "      <th>alcaldia</th>\n",
       "      <th></th>\n",
       "    </tr>\n",
       "  </thead>\n",
       "  <tbody>\n",
       "    <tr>\n",
       "      <td>d. m. nacional</td>\n",
       "      <td>gustavo a. madero</td>\n",
       "      <td>62143.291667</td>\n",
       "    </tr>\n",
       "    <tr>\n",
       "      <td>santa fe la loma</td>\n",
       "      <td>alvaro obregon</td>\n",
       "      <td>29945.490000</td>\n",
       "    </tr>\n",
       "    <tr>\n",
       "      <td>aeropuerto internacional de la cd de mex</td>\n",
       "      <td>venustiano carranza</td>\n",
       "      <td>26990.713333</td>\n",
       "    </tr>\n",
       "    <tr>\n",
       "      <td>u. hab. acueducto de guadalupe</td>\n",
       "      <td>gustavo a. madero</td>\n",
       "      <td>25990.270769</td>\n",
       "    </tr>\n",
       "    <tr>\n",
       "      <td>unidad cuitlahuac</td>\n",
       "      <td>azcapotzalco</td>\n",
       "      <td>23575.361111</td>\n",
       "    </tr>\n",
       "    <tr>\n",
       "      <td>lindavista vallejo 2a. seccion</td>\n",
       "      <td>gustavo a. madero</td>\n",
       "      <td>22813.925000</td>\n",
       "    </tr>\n",
       "    <tr>\n",
       "      <td>narciso mendoza</td>\n",
       "      <td>tlalpan</td>\n",
       "      <td>22072.067222</td>\n",
       "    </tr>\n",
       "    <tr>\n",
       "      <td>ex hacienda de tarango</td>\n",
       "      <td>alvaro obregon</td>\n",
       "      <td>21927.130000</td>\n",
       "    </tr>\n",
       "    <tr>\n",
       "      <td>carola</td>\n",
       "      <td>alvaro obregon</td>\n",
       "      <td>21286.220833</td>\n",
       "    </tr>\n",
       "    <tr>\n",
       "      <td>francisco villa</td>\n",
       "      <td>alvaro obregon</td>\n",
       "      <td>19313.256667</td>\n",
       "    </tr>\n",
       "    <tr>\n",
       "      <td>santa fe</td>\n",
       "      <td>alvaro obregon</td>\n",
       "      <td>17306.465000</td>\n",
       "    </tr>\n",
       "    <tr>\n",
       "      <td>ex ejido de san pablo tepetlapa</td>\n",
       "      <td>coyoacan</td>\n",
       "      <td>15701.181667</td>\n",
       "    </tr>\n",
       "    <tr>\n",
       "      <td>u. hab. lomas de plateros</td>\n",
       "      <td>alvaro obregon</td>\n",
       "      <td>15533.383871</td>\n",
       "    </tr>\n",
       "    <tr>\n",
       "      <td>el yaqui</td>\n",
       "      <td>cuajimalpa</td>\n",
       "      <td>15422.026667</td>\n",
       "    </tr>\n",
       "    <tr>\n",
       "      <td>nueva el rosario</td>\n",
       "      <td>azcapotzalco</td>\n",
       "      <td>15351.115556</td>\n",
       "    </tr>\n",
       "  </tbody>\n",
       "</table>\n",
       "</div>"
      ],
      "text/plain": [
       "                                                              consumo_total\n",
       "colonia                                  alcaldia                          \n",
       "d. m. nacional                           gustavo a. madero     62143.291667\n",
       "santa fe la loma                         alvaro obregon        29945.490000\n",
       "aeropuerto internacional de la cd de mex venustiano carranza   26990.713333\n",
       "u. hab. acueducto de guadalupe           gustavo a. madero     25990.270769\n",
       "unidad cuitlahuac                        azcapotzalco          23575.361111\n",
       "lindavista vallejo 2a. seccion           gustavo a. madero     22813.925000\n",
       "narciso mendoza                          tlalpan               22072.067222\n",
       "ex hacienda de tarango                   alvaro obregon        21927.130000\n",
       "carola                                   alvaro obregon        21286.220833\n",
       "francisco villa                          alvaro obregon        19313.256667\n",
       "santa fe                                 alvaro obregon        17306.465000\n",
       "ex ejido de san pablo tepetlapa          coyoacan              15701.181667\n",
       "u. hab. lomas de plateros                alvaro obregon        15533.383871\n",
       "el yaqui                                 cuajimalpa            15422.026667\n",
       "nueva el rosario                         azcapotzalco          15351.115556"
      ]
     },
     "execution_count": 8,
     "metadata": {},
     "output_type": "execute_result"
    }
   ],
   "source": [
    "eda.tabla_ranking_n(datos,15,\"colonia\",\"alcaldia\",'consumo_total')"
   ]
  },
  {
   "cell_type": "markdown",
   "metadata": {},
   "source": [
    "En total, la base cuenta con 1,340 colonias por lo que no es posible hacer un análisis gráfico donde podamos visualizar todas las categorías. Por ello, se tabularon los consumos promedios de agua total de las 15 colonias más altas para verificar si el consumo promedio se mantiene similar en las colonias que pertenecen a una misma alcaldía. Sin embargo, vemos que el consumo por colonia es muy distinto incluso dentro de una misma alcaldía. Por ejemplo, arriba vimos que el consumo promedio de agua en Cuajimalpa y Miguel Hidalgo son los más altos. Sin embargo, sólo hay una colonia de Cuajimalpa en el top15 y ninguna de Miguel Hidalgo"
   ]
  },
  {
   "cell_type": "code",
   "execution_count": 9,
   "metadata": {},
   "outputs": [
    {
     "data": {
      "image/png": "[encoded data removed]",
      "text/plain": [
       "<Figure size 360x360 with 1 Axes>"
      ]
     },
     "metadata": {
      "needs_background": "light"
     },
     "output_type": "display_data"
    }
   ],
   "source": [
    "eda.grafico_barplot_orden_en_barras(datos,'indice_des','consumo_total',['popular','bajo','medio','alto'],'Índice de desarrollo','Consumo de agua total','Consumo de agua promedio por índice de desarrollo')"
   ]
  },
  {
   "cell_type": "markdown",
   "metadata": {},
   "source": [
    "No se encontró que el consumo de agua promedio aumentara conforme al índice de desarrollo. Dado que el consumo popular es más grande que en bajo y medio. El índice de desarrollo medio es menor que el popular y bajo, pero el alto es el nivel con mayor consumo."
   ]
  },
  {
   "cell_type": "code",
   "execution_count": 10,
   "metadata": {},
   "outputs": [
    {
     "data": {
      "image/png": "[encoded data removed]",
      "text/plain": [
       "<Figure size 432x288 with 1 Axes>"
      ]
     },
     "metadata": {
      "needs_background": "light"
     },
     "output_type": "display_data"
    }
   ],
   "source": [
    "eda.grafico_tipo_uso(datos,'total','consumos totales','tipos de uso','Consumos totales por tipo de uso del inmueble')"
   ]
  },
  {
   "cell_type": "markdown",
   "metadata": {},
   "source": [
    "Se encontró que los establecimientos que pertenecen al rubro mixto por lo regular presentan un menor consumo total mientras que los establecimientos para usos domésticos y no domésticos tienen consumos mucho más grandes."
   ]
  },
  {
   "cell_type": "code",
   "execution_count": 11,
   "metadata": {},
   "outputs": [
    {
     "data": {
      "image/png": "[encoded data removed]",
      "text/plain": [
       "<Figure size 432x288 with 1 Axes>"
      ]
     },
     "metadata": {
      "needs_background": "light"
     },
     "output_type": "display_data"
    }
   ],
   "source": [
    "eda.grafico_tipo_uso(datos,'prom','consumos promedio','tipos de uso','Consumos promedio por tipo de uso del inmueble')"
   ]
  },
  {
   "cell_type": "markdown",
   "metadata": {},
   "source": [
    "Por otro lado, los consumos promedio tienen un comportamiento totalmente distinto. Ya que los consumos promedio de los no domésticos son mucho más altos que los consumos promedio en domésticos y mixtos que son muy similares."
   ]
  },
  {
   "cell_type": "code",
   "execution_count": 12,
   "metadata": {},
   "outputs": [
    {
     "data": {
      "image/png": "[encoded data removed]",
      "text/plain": [
       "<Figure size 360x360 with 1 Axes>"
      ]
     },
     "metadata": {
      "needs_background": "light"
     },
     "output_type": "display_data"
    }
   ],
   "source": [
    "eda.grafico_strip(datos,'bimestre','consumo_total','Bimestre de 2019','Consumo de agua total','Consumo de agua promedio por bimestre')"
   ]
  },
  {
   "cell_type": "markdown",
   "metadata": {
    "hideCode": false,
    "hidePrompt": false
   },
   "source": [
    "Se observa que en general el consumo promedio por manzana no varía por bimestre en 2019. Por lo que esta variable no se incluiría en el modelo predictivo."
   ]
  },
  {
   "cell_type": "code",
   "execution_count": 13,
   "metadata": {},
   "outputs": [
    {
     "data": {
      "image/png": "[encoded data removed]",
      "text/plain": [
       "<Figure size 432x432 with 2 Axes>"
      ]
     },
     "metadata": {
      "needs_background": "light"
     },
     "output_type": "display_data"
    }
   ],
   "source": [
    "eda.matriz_correlacion(datos)"
   ]
  },
  {
   "cell_type": "markdown",
   "metadata": {},
   "source": [
    "Vemos que el consumo total está correlacionado positivamente con el consumo consumo total por cada tipo de uso, con el consumo promedio y con el consumo promedio en no domésticos.\n",
    "\n",
    "A su vez, también identificamos que el consumo total mixto está fuertemente asociado con el consumo promedio en no domésticos.\n",
    "\n",
    "Finalmente, no se encontraron correlaciones significativas de tipo negativo entre las variables. La variable año además, podría ser omitida del modelo al tener siempre el mismo valor: 2019"
   ]
  },
  {
   "cell_type": "markdown",
   "metadata": {
    "hideCode": false,
    "hidePrompt": false
   },
   "source": [
    "**Identificación de variables a utilizar para un posible modelo de predicción de alto consumo de agua (supervisado, clasificación)**"
   ]
  },
  {
   "cell_type": "markdown",
   "metadata": {},
   "source": [
    "Con el objetivo de generar un modelo predictivo del consumo de agua, pensamos utilizar las variables que en el análisis exploratorio encontramos muy relacionadas con el nivel de consumo, las cuales fueron:\n",
    "\n",
    "* Alcaldía y Colonia. La predicción debería ser por colonia pero pensando en que pudiera haber colonias con el mismo nombre en diferentes alcaldías, se debe utilizar la combinación de ambas.\n",
    "* Índice de desarrollo diferenciando entre los que son altos y no altos (binaria)\n",
    "* Tipo de Uso\n",
    "\n",
    "Finalmente, nos dimos cuenta que aunque las variables de latitud y longitud no estarían explícitamente incorporadas al modelo, pero están contempladas implícitamente en los datos geográficos (Colonias y Alcaldías)."
   ]
  },
  {
   "cell_type": "code",
   "execution_count": null,
   "metadata": {},
   "outputs": [],
   "source": []
  },
  {
   "cell_type": "code",
   "execution_count": null,
   "metadata": {},
   "outputs": [],
   "source": []
  },
  {
   "cell_type": "code",
   "execution_count": null,
   "metadata": {},
   "outputs": [],
   "source": []
  },
  {
   "cell_type": "code",
   "execution_count": null,
   "metadata": {},
   "outputs": [],
   "source": []
  },
  {
   "cell_type": "code",
   "execution_count": null,
   "metadata": {},
   "outputs": [],
   "source": []
  },
  {
   "cell_type": "code",
   "execution_count": 186,
   "metadata": {},
   "outputs": [
    {
     "data": {
      "text/html": [
       "<div>\n",
       "<style scoped>\n",
       "    .dataframe tbody tr th:only-of-type {\n",
       "        vertical-align: middle;\n",
       "    }\n",
       "\n",
       "    .dataframe tbody tr th {\n",
       "        vertical-align: top;\n",
       "    }\n",
       "\n",
       "    .dataframe thead th {\n",
       "        text-align: right;\n",
       "    }\n",
       "</style>\n",
       "<table border=\"1\" class=\"dataframe\">\n",
       "  <thead>\n",
       "    <tr style=\"text-align: right;\">\n",
       "      <th></th>\n",
       "      <th>consumo_total_mixto</th>\n",
       "      <th>anio</th>\n",
       "      <th>nomgeo</th>\n",
       "      <th>consumo_prom_dom</th>\n",
       "      <th>consumo_total_dom</th>\n",
       "      <th>alcaldia</th>\n",
       "      <th>colonia</th>\n",
       "      <th>consumo_prom_mixto</th>\n",
       "      <th>consumo_total</th>\n",
       "      <th>consumo_prom</th>\n",
       "      <th>consumo_prom_no_dom</th>\n",
       "      <th>bimestre</th>\n",
       "      <th>consumo_total_no_dom</th>\n",
       "      <th>gid</th>\n",
       "      <th>indice_des</th>\n",
       "      <th>latitud</th>\n",
       "      <th>longitud</th>\n",
       "      <th>consumo_total_alto</th>\n",
       "    </tr>\n",
       "  </thead>\n",
       "  <tbody>\n",
       "    <tr>\n",
       "      <td>0</td>\n",
       "      <td>307.09</td>\n",
       "      <td>2019</td>\n",
       "      <td>Azcapotzalco</td>\n",
       "      <td>41.430000</td>\n",
       "      <td>455.73</td>\n",
       "      <td>azcapotzalco</td>\n",
       "      <td>tierra nueva</td>\n",
       "      <td>51.181668</td>\n",
       "      <td>1029.50</td>\n",
       "      <td>54.184211</td>\n",
       "      <td>133.34</td>\n",
       "      <td>1</td>\n",
       "      <td>266.68</td>\n",
       "      <td>10206</td>\n",
       "      <td>bajo</td>\n",
       "      <td>19.498292</td>\n",
       "      <td>-99.199044</td>\n",
       "      <td>no alto</td>\n",
       "    </tr>\n",
       "    <tr>\n",
       "      <td>1</td>\n",
       "      <td>63.78</td>\n",
       "      <td>2019</td>\n",
       "      <td>Azcapotzalco</td>\n",
       "      <td>61.337142</td>\n",
       "      <td>429.36</td>\n",
       "      <td>azcapotzalco</td>\n",
       "      <td>tierra nueva</td>\n",
       "      <td>15.945000</td>\n",
       "      <td>530.88</td>\n",
       "      <td>40.836923</td>\n",
       "      <td>18.87</td>\n",
       "      <td>1</td>\n",
       "      <td>37.74</td>\n",
       "      <td>10203</td>\n",
       "      <td>bajo</td>\n",
       "      <td>19.498891</td>\n",
       "      <td>-99.200908</td>\n",
       "      <td>no alto</td>\n",
       "    </tr>\n",
       "    <tr>\n",
       "      <td>2</td>\n",
       "      <td>129.81</td>\n",
       "      <td>2019</td>\n",
       "      <td>Azcapotzalco</td>\n",
       "      <td>24.724412</td>\n",
       "      <td>840.63</td>\n",
       "      <td>azcapotzalco</td>\n",
       "      <td>san antonio</td>\n",
       "      <td>64.905003</td>\n",
       "      <td>980.96</td>\n",
       "      <td>25.814737</td>\n",
       "      <td>5.26</td>\n",
       "      <td>1</td>\n",
       "      <td>10.52</td>\n",
       "      <td>10211</td>\n",
       "      <td>medio</td>\n",
       "      <td>19.480811</td>\n",
       "      <td>-99.208768</td>\n",
       "      <td>no alto</td>\n",
       "    </tr>\n",
       "    <tr>\n",
       "      <td>3</td>\n",
       "      <td>142.20</td>\n",
       "      <td>2019</td>\n",
       "      <td>Azcapotzalco</td>\n",
       "      <td>22.798462</td>\n",
       "      <td>592.76</td>\n",
       "      <td>azcapotzalco</td>\n",
       "      <td>san antonio</td>\n",
       "      <td>142.199997</td>\n",
       "      <td>766.23</td>\n",
       "      <td>27.365357</td>\n",
       "      <td>31.27</td>\n",
       "      <td>1</td>\n",
       "      <td>31.27</td>\n",
       "      <td>10217</td>\n",
       "      <td>bajo</td>\n",
       "      <td>19.481578</td>\n",
       "      <td>-99.203462</td>\n",
       "      <td>no alto</td>\n",
       "    </tr>\n",
       "    <tr>\n",
       "      <td>4</td>\n",
       "      <td>71.38</td>\n",
       "      <td>2019</td>\n",
       "      <td>Azcapotzalco</td>\n",
       "      <td>37.390334</td>\n",
       "      <td>1121.71</td>\n",
       "      <td>azcapotzalco</td>\n",
       "      <td>san antonio</td>\n",
       "      <td>35.690000</td>\n",
       "      <td>1203.12</td>\n",
       "      <td>36.458182</td>\n",
       "      <td>10.03</td>\n",
       "      <td>1</td>\n",
       "      <td>10.03</td>\n",
       "      <td>10220</td>\n",
       "      <td>bajo</td>\n",
       "      <td>19.479410</td>\n",
       "      <td>-99.202769</td>\n",
       "      <td>no alto</td>\n",
       "    </tr>\n",
       "  </tbody>\n",
       "</table>\n",
       "</div>"
      ],
      "text/plain": [
       "   consumo_total_mixto  anio        nomgeo  consumo_prom_dom  \\\n",
       "0               307.09  2019  Azcapotzalco         41.430000   \n",
       "1                63.78  2019  Azcapotzalco         61.337142   \n",
       "2               129.81  2019  Azcapotzalco         24.724412   \n",
       "3               142.20  2019  Azcapotzalco         22.798462   \n",
       "4                71.38  2019  Azcapotzalco         37.390334   \n",
       "\n",
       "   consumo_total_dom      alcaldia       colonia  consumo_prom_mixto  \\\n",
       "0             455.73  azcapotzalco  tierra nueva           51.181668   \n",
       "1             429.36  azcapotzalco  tierra nueva           15.945000   \n",
       "2             840.63  azcapotzalco   san antonio           64.905003   \n",
       "3             592.76  azcapotzalco   san antonio          142.199997   \n",
       "4            1121.71  azcapotzalco   san antonio           35.690000   \n",
       "\n",
       "   consumo_total  consumo_prom  consumo_prom_no_dom bimestre  \\\n",
       "0        1029.50     54.184211               133.34        1   \n",
       "1         530.88     40.836923                18.87        1   \n",
       "2         980.96     25.814737                 5.26        1   \n",
       "3         766.23     27.365357                31.27        1   \n",
       "4        1203.12     36.458182                10.03        1   \n",
       "\n",
       "   consumo_total_no_dom    gid indice_des    latitud   longitud  \\\n",
       "0                266.68  10206       bajo  19.498292 -99.199044   \n",
       "1                 37.74  10203       bajo  19.498891 -99.200908   \n",
       "2                 10.52  10211      medio  19.480811 -99.208768   \n",
       "3                 31.27  10217       bajo  19.481578 -99.203462   \n",
       "4                 10.03  10220       bajo  19.479410 -99.202769   \n",
       "\n",
       "  consumo_total_alto  \n",
       "0            no alto  \n",
       "1            no alto  \n",
       "2            no alto  \n",
       "3            no alto  \n",
       "4            no alto  "
      ]
     },
     "execution_count": 186,
     "metadata": {},
     "output_type": "execute_result"
    }
   ],
   "source": [
    "datos.head()"
   ]
  },
  {
   "cell_type": "code",
   "execution_count": 187,
   "metadata": {},
   "outputs": [
    {
     "data": {
      "text/plain": [
       "1808.9025"
      ]
     },
     "execution_count": 187,
     "metadata": {},
     "output_type": "execute_result"
    }
   ],
   "source": [
    "datos.consumo_total.quantile(.75)"
   ]
  },
  {
   "cell_type": "code",
   "execution_count": 188,
   "metadata": {},
   "outputs": [],
   "source": [
    "import numpy as np\n",
    "import pandas as pd\n",
    "import seaborn as sns\n",
    "from sklearn.preprocessing import LabelEncoder\n",
    "from sklearn.feature_selection import chi2\n",
    "\n",
    "datos['consumo_total_alto'] = np.where(datos['consumo_total']>=datos.consumo_total.quantile(.75), 'alto', 'no alto')"
   ]
  },
  {
   "cell_type": "code",
   "execution_count": 189,
   "metadata": {},
   "outputs": [
    {
     "data": {
      "text/html": [
       "<div>\n",
       "<style scoped>\n",
       "    .dataframe tbody tr th:only-of-type {\n",
       "        vertical-align: middle;\n",
       "    }\n",
       "\n",
       "    .dataframe tbody tr th {\n",
       "        vertical-align: top;\n",
       "    }\n",
       "\n",
       "    .dataframe thead th {\n",
       "        text-align: right;\n",
       "    }\n",
       "</style>\n",
       "<table border=\"1\" class=\"dataframe\">\n",
       "  <thead>\n",
       "    <tr style=\"text-align: right;\">\n",
       "      <th></th>\n",
       "      <th>consumo_total_mixto</th>\n",
       "      <th>anio</th>\n",
       "      <th>nomgeo</th>\n",
       "      <th>consumo_prom_dom</th>\n",
       "      <th>consumo_total_dom</th>\n",
       "      <th>alcaldia</th>\n",
       "      <th>colonia</th>\n",
       "      <th>consumo_prom_mixto</th>\n",
       "      <th>consumo_total</th>\n",
       "      <th>consumo_prom</th>\n",
       "      <th>consumo_prom_no_dom</th>\n",
       "      <th>bimestre</th>\n",
       "      <th>consumo_total_no_dom</th>\n",
       "      <th>gid</th>\n",
       "      <th>indice_des</th>\n",
       "      <th>latitud</th>\n",
       "      <th>longitud</th>\n",
       "      <th>consumo_total_alto</th>\n",
       "    </tr>\n",
       "  </thead>\n",
       "  <tbody>\n",
       "    <tr>\n",
       "      <td>0</td>\n",
       "      <td>307.09</td>\n",
       "      <td>2019</td>\n",
       "      <td>Azcapotzalco</td>\n",
       "      <td>41.430000</td>\n",
       "      <td>455.73</td>\n",
       "      <td>azcapotzalco</td>\n",
       "      <td>tierra nueva</td>\n",
       "      <td>51.181668</td>\n",
       "      <td>1029.50</td>\n",
       "      <td>54.184211</td>\n",
       "      <td>133.340000</td>\n",
       "      <td>1</td>\n",
       "      <td>266.68</td>\n",
       "      <td>10206</td>\n",
       "      <td>bajo</td>\n",
       "      <td>19.498292</td>\n",
       "      <td>-99.199044</td>\n",
       "      <td>no alto</td>\n",
       "    </tr>\n",
       "    <tr>\n",
       "      <td>1</td>\n",
       "      <td>63.78</td>\n",
       "      <td>2019</td>\n",
       "      <td>Azcapotzalco</td>\n",
       "      <td>61.337142</td>\n",
       "      <td>429.36</td>\n",
       "      <td>azcapotzalco</td>\n",
       "      <td>tierra nueva</td>\n",
       "      <td>15.945000</td>\n",
       "      <td>530.88</td>\n",
       "      <td>40.836923</td>\n",
       "      <td>18.870000</td>\n",
       "      <td>1</td>\n",
       "      <td>37.74</td>\n",
       "      <td>10203</td>\n",
       "      <td>bajo</td>\n",
       "      <td>19.498891</td>\n",
       "      <td>-99.200908</td>\n",
       "      <td>no alto</td>\n",
       "    </tr>\n",
       "    <tr>\n",
       "      <td>2</td>\n",
       "      <td>129.81</td>\n",
       "      <td>2019</td>\n",
       "      <td>Azcapotzalco</td>\n",
       "      <td>24.724412</td>\n",
       "      <td>840.63</td>\n",
       "      <td>azcapotzalco</td>\n",
       "      <td>san antonio</td>\n",
       "      <td>64.905003</td>\n",
       "      <td>980.96</td>\n",
       "      <td>25.814737</td>\n",
       "      <td>5.260000</td>\n",
       "      <td>1</td>\n",
       "      <td>10.52</td>\n",
       "      <td>10211</td>\n",
       "      <td>medio</td>\n",
       "      <td>19.480811</td>\n",
       "      <td>-99.208768</td>\n",
       "      <td>no alto</td>\n",
       "    </tr>\n",
       "    <tr>\n",
       "      <td>3</td>\n",
       "      <td>142.20</td>\n",
       "      <td>2019</td>\n",
       "      <td>Azcapotzalco</td>\n",
       "      <td>22.798462</td>\n",
       "      <td>592.76</td>\n",
       "      <td>azcapotzalco</td>\n",
       "      <td>san antonio</td>\n",
       "      <td>142.199997</td>\n",
       "      <td>766.23</td>\n",
       "      <td>27.365357</td>\n",
       "      <td>31.270000</td>\n",
       "      <td>1</td>\n",
       "      <td>31.27</td>\n",
       "      <td>10217</td>\n",
       "      <td>bajo</td>\n",
       "      <td>19.481578</td>\n",
       "      <td>-99.203462</td>\n",
       "      <td>no alto</td>\n",
       "    </tr>\n",
       "    <tr>\n",
       "      <td>4</td>\n",
       "      <td>71.38</td>\n",
       "      <td>2019</td>\n",
       "      <td>Azcapotzalco</td>\n",
       "      <td>37.390334</td>\n",
       "      <td>1121.71</td>\n",
       "      <td>azcapotzalco</td>\n",
       "      <td>san antonio</td>\n",
       "      <td>35.690000</td>\n",
       "      <td>1203.12</td>\n",
       "      <td>36.458182</td>\n",
       "      <td>10.030000</td>\n",
       "      <td>1</td>\n",
       "      <td>10.03</td>\n",
       "      <td>10220</td>\n",
       "      <td>bajo</td>\n",
       "      <td>19.479410</td>\n",
       "      <td>-99.202769</td>\n",
       "      <td>no alto</td>\n",
       "    </tr>\n",
       "    <tr>\n",
       "      <td>5</td>\n",
       "      <td>NaN</td>\n",
       "      <td>2019</td>\n",
       "      <td>Azcapotzalco</td>\n",
       "      <td>26.068333</td>\n",
       "      <td>469.23</td>\n",
       "      <td>azcapotzalco</td>\n",
       "      <td>ex hacienda del rosario</td>\n",
       "      <td>NaN</td>\n",
       "      <td>485.75</td>\n",
       "      <td>25.565789</td>\n",
       "      <td>16.520000</td>\n",
       "      <td>1</td>\n",
       "      <td>16.52</td>\n",
       "      <td>10252</td>\n",
       "      <td>bajo</td>\n",
       "      <td>19.497527</td>\n",
       "      <td>-99.211952</td>\n",
       "      <td>no alto</td>\n",
       "    </tr>\n",
       "    <tr>\n",
       "      <td>6</td>\n",
       "      <td>108.00</td>\n",
       "      <td>2019</td>\n",
       "      <td>Azcapotzalco</td>\n",
       "      <td>52.277000</td>\n",
       "      <td>522.77</td>\n",
       "      <td>azcapotzalco</td>\n",
       "      <td>pueblo san martin xochinahuac</td>\n",
       "      <td>108.000000</td>\n",
       "      <td>898.56</td>\n",
       "      <td>47.292632</td>\n",
       "      <td>33.473749</td>\n",
       "      <td>1</td>\n",
       "      <td>267.79</td>\n",
       "      <td>10227</td>\n",
       "      <td>popular</td>\n",
       "      <td>19.496616</td>\n",
       "      <td>-99.193068</td>\n",
       "      <td>no alto</td>\n",
       "    </tr>\n",
       "    <tr>\n",
       "      <td>7</td>\n",
       "      <td>152.80</td>\n",
       "      <td>2019</td>\n",
       "      <td>Azcapotzalco</td>\n",
       "      <td>43.880833</td>\n",
       "      <td>526.57</td>\n",
       "      <td>azcapotzalco</td>\n",
       "      <td>tezozomoc</td>\n",
       "      <td>50.933333</td>\n",
       "      <td>718.90</td>\n",
       "      <td>44.931250</td>\n",
       "      <td>39.529999</td>\n",
       "      <td>1</td>\n",
       "      <td>39.53</td>\n",
       "      <td>10228</td>\n",
       "      <td>bajo</td>\n",
       "      <td>19.490075</td>\n",
       "      <td>-99.196631</td>\n",
       "      <td>no alto</td>\n",
       "    </tr>\n",
       "    <tr>\n",
       "      <td>8</td>\n",
       "      <td>140.45</td>\n",
       "      <td>2019</td>\n",
       "      <td>Azcapotzalco</td>\n",
       "      <td>29.576666</td>\n",
       "      <td>266.19</td>\n",
       "      <td>azcapotzalco</td>\n",
       "      <td>pueblo san pedro xalpa</td>\n",
       "      <td>35.112500</td>\n",
       "      <td>466.56</td>\n",
       "      <td>29.160000</td>\n",
       "      <td>19.973333</td>\n",
       "      <td>1</td>\n",
       "      <td>59.92</td>\n",
       "      <td>10230</td>\n",
       "      <td>bajo</td>\n",
       "      <td>19.484024</td>\n",
       "      <td>-99.210392</td>\n",
       "      <td>no alto</td>\n",
       "    </tr>\n",
       "    <tr>\n",
       "      <td>9</td>\n",
       "      <td>269.05</td>\n",
       "      <td>2019</td>\n",
       "      <td>Azcapotzalco</td>\n",
       "      <td>58.709999</td>\n",
       "      <td>117.42</td>\n",
       "      <td>azcapotzalco</td>\n",
       "      <td>tierra nueva</td>\n",
       "      <td>134.525002</td>\n",
       "      <td>394.14</td>\n",
       "      <td>78.828000</td>\n",
       "      <td>7.670000</td>\n",
       "      <td>1</td>\n",
       "      <td>7.67</td>\n",
       "      <td>10232</td>\n",
       "      <td>bajo</td>\n",
       "      <td>19.498491</td>\n",
       "      <td>-99.200988</td>\n",
       "      <td>no alto</td>\n",
       "    </tr>\n",
       "  </tbody>\n",
       "</table>\n",
       "</div>"
      ],
      "text/plain": [
       "   consumo_total_mixto  anio        nomgeo  consumo_prom_dom  \\\n",
       "0               307.09  2019  Azcapotzalco         41.430000   \n",
       "1                63.78  2019  Azcapotzalco         61.337142   \n",
       "2               129.81  2019  Azcapotzalco         24.724412   \n",
       "3               142.20  2019  Azcapotzalco         22.798462   \n",
       "4                71.38  2019  Azcapotzalco         37.390334   \n",
       "5                  NaN  2019  Azcapotzalco         26.068333   \n",
       "6               108.00  2019  Azcapotzalco         52.277000   \n",
       "7               152.80  2019  Azcapotzalco         43.880833   \n",
       "8               140.45  2019  Azcapotzalco         29.576666   \n",
       "9               269.05  2019  Azcapotzalco         58.709999   \n",
       "\n",
       "   consumo_total_dom      alcaldia                        colonia  \\\n",
       "0             455.73  azcapotzalco                   tierra nueva   \n",
       "1             429.36  azcapotzalco                   tierra nueva   \n",
       "2             840.63  azcapotzalco                    san antonio   \n",
       "3             592.76  azcapotzalco                    san antonio   \n",
       "4            1121.71  azcapotzalco                    san antonio   \n",
       "5             469.23  azcapotzalco        ex hacienda del rosario   \n",
       "6             522.77  azcapotzalco  pueblo san martin xochinahuac   \n",
       "7             526.57  azcapotzalco                      tezozomoc   \n",
       "8             266.19  azcapotzalco         pueblo san pedro xalpa   \n",
       "9             117.42  azcapotzalco                   tierra nueva   \n",
       "\n",
       "   consumo_prom_mixto  consumo_total  consumo_prom  consumo_prom_no_dom  \\\n",
       "0           51.181668        1029.50     54.184211           133.340000   \n",
       "1           15.945000         530.88     40.836923            18.870000   \n",
       "2           64.905003         980.96     25.814737             5.260000   \n",
       "3          142.199997         766.23     27.365357            31.270000   \n",
       "4           35.690000        1203.12     36.458182            10.030000   \n",
       "5                 NaN         485.75     25.565789            16.520000   \n",
       "6          108.000000         898.56     47.292632            33.473749   \n",
       "7           50.933333         718.90     44.931250            39.529999   \n",
       "8           35.112500         466.56     29.160000            19.973333   \n",
       "9          134.525002         394.14     78.828000             7.670000   \n",
       "\n",
       "  bimestre  consumo_total_no_dom    gid indice_des    latitud   longitud  \\\n",
       "0        1                266.68  10206       bajo  19.498292 -99.199044   \n",
       "1        1                 37.74  10203       bajo  19.498891 -99.200908   \n",
       "2        1                 10.52  10211      medio  19.480811 -99.208768   \n",
       "3        1                 31.27  10217       bajo  19.481578 -99.203462   \n",
       "4        1                 10.03  10220       bajo  19.479410 -99.202769   \n",
       "5        1                 16.52  10252       bajo  19.497527 -99.211952   \n",
       "6        1                267.79  10227    popular  19.496616 -99.193068   \n",
       "7        1                 39.53  10228       bajo  19.490075 -99.196631   \n",
       "8        1                 59.92  10230       bajo  19.484024 -99.210392   \n",
       "9        1                  7.67  10232       bajo  19.498491 -99.200988   \n",
       "\n",
       "  consumo_total_alto  \n",
       "0            no alto  \n",
       "1            no alto  \n",
       "2            no alto  \n",
       "3            no alto  \n",
       "4            no alto  \n",
       "5            no alto  \n",
       "6            no alto  \n",
       "7            no alto  \n",
       "8            no alto  \n",
       "9            no alto  "
      ]
     },
     "execution_count": 189,
     "metadata": {},
     "output_type": "execute_result"
    }
   ],
   "source": [
    "datos.head(10)"
   ]
  },
  {
   "cell_type": "code",
   "execution_count": 190,
   "metadata": {},
   "outputs": [],
   "source": [
    "def selecciona_variables_categoricas(archivo):\n",
    "        lista_variables_categoricas=archivo.select_dtypes(include = 'object').columns.values\n",
    "        archivo_variables_categoricas = archivo.loc[:, lista_variables_categoricas]\n",
    "        return archivo_variables_categoricas"
   ]
  },
  {
   "cell_type": "code",
   "execution_count": 191,
   "metadata": {},
   "outputs": [],
   "source": [
    "datos_cat=selecciona_variables_categoricas(datos)"
   ]
  },
  {
   "cell_type": "code",
   "execution_count": 192,
   "metadata": {},
   "outputs": [
    {
     "data": {
      "text/html": [
       "<div>\n",
       "<style scoped>\n",
       "    .dataframe tbody tr th:only-of-type {\n",
       "        vertical-align: middle;\n",
       "    }\n",
       "\n",
       "    .dataframe tbody tr th {\n",
       "        vertical-align: top;\n",
       "    }\n",
       "\n",
       "    .dataframe thead th {\n",
       "        text-align: right;\n",
       "    }\n",
       "</style>\n",
       "<table border=\"1\" class=\"dataframe\">\n",
       "  <thead>\n",
       "    <tr style=\"text-align: right;\">\n",
       "      <th></th>\n",
       "      <th>nomgeo</th>\n",
       "      <th>alcaldia</th>\n",
       "      <th>colonia</th>\n",
       "      <th>bimestre</th>\n",
       "      <th>gid</th>\n",
       "      <th>indice_des</th>\n",
       "      <th>consumo_total_alto</th>\n",
       "    </tr>\n",
       "  </thead>\n",
       "  <tbody>\n",
       "    <tr>\n",
       "      <td>0</td>\n",
       "      <td>Azcapotzalco</td>\n",
       "      <td>azcapotzalco</td>\n",
       "      <td>tierra nueva</td>\n",
       "      <td>1</td>\n",
       "      <td>10206</td>\n",
       "      <td>bajo</td>\n",
       "      <td>no alto</td>\n",
       "    </tr>\n",
       "    <tr>\n",
       "      <td>1</td>\n",
       "      <td>Azcapotzalco</td>\n",
       "      <td>azcapotzalco</td>\n",
       "      <td>tierra nueva</td>\n",
       "      <td>1</td>\n",
       "      <td>10203</td>\n",
       "      <td>bajo</td>\n",
       "      <td>no alto</td>\n",
       "    </tr>\n",
       "    <tr>\n",
       "      <td>2</td>\n",
       "      <td>Azcapotzalco</td>\n",
       "      <td>azcapotzalco</td>\n",
       "      <td>san antonio</td>\n",
       "      <td>1</td>\n",
       "      <td>10211</td>\n",
       "      <td>medio</td>\n",
       "      <td>no alto</td>\n",
       "    </tr>\n",
       "    <tr>\n",
       "      <td>3</td>\n",
       "      <td>Azcapotzalco</td>\n",
       "      <td>azcapotzalco</td>\n",
       "      <td>san antonio</td>\n",
       "      <td>1</td>\n",
       "      <td>10217</td>\n",
       "      <td>bajo</td>\n",
       "      <td>no alto</td>\n",
       "    </tr>\n",
       "    <tr>\n",
       "      <td>4</td>\n",
       "      <td>Azcapotzalco</td>\n",
       "      <td>azcapotzalco</td>\n",
       "      <td>san antonio</td>\n",
       "      <td>1</td>\n",
       "      <td>10220</td>\n",
       "      <td>bajo</td>\n",
       "      <td>no alto</td>\n",
       "    </tr>\n",
       "  </tbody>\n",
       "</table>\n",
       "</div>"
      ],
      "text/plain": [
       "         nomgeo      alcaldia       colonia bimestre    gid indice_des  \\\n",
       "0  Azcapotzalco  azcapotzalco  tierra nueva        1  10206       bajo   \n",
       "1  Azcapotzalco  azcapotzalco  tierra nueva        1  10203       bajo   \n",
       "2  Azcapotzalco  azcapotzalco   san antonio        1  10211      medio   \n",
       "3  Azcapotzalco  azcapotzalco   san antonio        1  10217       bajo   \n",
       "4  Azcapotzalco  azcapotzalco   san antonio        1  10220       bajo   \n",
       "\n",
       "  consumo_total_alto  \n",
       "0            no alto  \n",
       "1            no alto  \n",
       "2            no alto  \n",
       "3            no alto  \n",
       "4            no alto  "
      ]
     },
     "execution_count": 192,
     "metadata": {},
     "output_type": "execute_result"
    }
   ],
   "source": [
    "datos_cat.head()"
   ]
  },
  {
   "cell_type": "code",
   "execution_count": 193,
   "metadata": {},
   "outputs": [
    {
     "data": {
      "text/html": [
       "<div>\n",
       "<style scoped>\n",
       "    .dataframe tbody tr th:only-of-type {\n",
       "        vertical-align: middle;\n",
       "    }\n",
       "\n",
       "    .dataframe tbody tr th {\n",
       "        vertical-align: top;\n",
       "    }\n",
       "\n",
       "    .dataframe thead th {\n",
       "        text-align: right;\n",
       "    }\n",
       "</style>\n",
       "<table border=\"1\" class=\"dataframe\">\n",
       "  <thead>\n",
       "    <tr style=\"text-align: right;\">\n",
       "      <th></th>\n",
       "      <th>nomgeo</th>\n",
       "      <th>alcaldia</th>\n",
       "      <th>colonia</th>\n",
       "      <th>bimestre</th>\n",
       "      <th>gid</th>\n",
       "      <th>indice_des</th>\n",
       "      <th>consumo_total_alto</th>\n",
       "    </tr>\n",
       "  </thead>\n",
       "  <tbody>\n",
       "    <tr>\n",
       "      <td>0</td>\n",
       "      <td>Azcapotzalco</td>\n",
       "      <td>azcapotzalco</td>\n",
       "      <td>tierra nueva</td>\n",
       "      <td>1</td>\n",
       "      <td>10206</td>\n",
       "      <td>bajo</td>\n",
       "      <td>no alto</td>\n",
       "    </tr>\n",
       "    <tr>\n",
       "      <td>1</td>\n",
       "      <td>Azcapotzalco</td>\n",
       "      <td>azcapotzalco</td>\n",
       "      <td>tierra nueva</td>\n",
       "      <td>1</td>\n",
       "      <td>10203</td>\n",
       "      <td>bajo</td>\n",
       "      <td>no alto</td>\n",
       "    </tr>\n",
       "    <tr>\n",
       "      <td>2</td>\n",
       "      <td>Azcapotzalco</td>\n",
       "      <td>azcapotzalco</td>\n",
       "      <td>san antonio</td>\n",
       "      <td>1</td>\n",
       "      <td>10211</td>\n",
       "      <td>medio</td>\n",
       "      <td>no alto</td>\n",
       "    </tr>\n",
       "    <tr>\n",
       "      <td>3</td>\n",
       "      <td>Azcapotzalco</td>\n",
       "      <td>azcapotzalco</td>\n",
       "      <td>san antonio</td>\n",
       "      <td>1</td>\n",
       "      <td>10217</td>\n",
       "      <td>bajo</td>\n",
       "      <td>no alto</td>\n",
       "    </tr>\n",
       "    <tr>\n",
       "      <td>4</td>\n",
       "      <td>Azcapotzalco</td>\n",
       "      <td>azcapotzalco</td>\n",
       "      <td>san antonio</td>\n",
       "      <td>1</td>\n",
       "      <td>10220</td>\n",
       "      <td>bajo</td>\n",
       "      <td>no alto</td>\n",
       "    </tr>\n",
       "  </tbody>\n",
       "</table>\n",
       "</div>"
      ],
      "text/plain": [
       "         nomgeo      alcaldia       colonia bimestre    gid indice_des  \\\n",
       "0  Azcapotzalco  azcapotzalco  tierra nueva        1  10206       bajo   \n",
       "1  Azcapotzalco  azcapotzalco  tierra nueva        1  10203       bajo   \n",
       "2  Azcapotzalco  azcapotzalco   san antonio        1  10211      medio   \n",
       "3  Azcapotzalco  azcapotzalco   san antonio        1  10217       bajo   \n",
       "4  Azcapotzalco  azcapotzalco   san antonio        1  10220       bajo   \n",
       "\n",
       "  consumo_total_alto  \n",
       "0            no alto  \n",
       "1            no alto  \n",
       "2            no alto  \n",
       "3            no alto  \n",
       "4            no alto  "
      ]
     },
     "execution_count": 193,
     "metadata": {},
     "output_type": "execute_result"
    }
   ],
   "source": [
    "datos_cat.head()"
   ]
  },
  {
   "cell_type": "code",
   "execution_count": 194,
   "metadata": {},
   "outputs": [],
   "source": [
    "#datos_cat=datos_cat.drop(['nomgeo','colonia','gid'],axis=1,inplace=True)\n",
    "#datos_cat\n",
    "\n",
    "datos_cat.drop(['nomgeo'],axis=1,inplace=True)"
   ]
  },
  {
   "cell_type": "code",
   "execution_count": 195,
   "metadata": {},
   "outputs": [],
   "source": [
    "label_encoder = LabelEncoder()\n",
    "datos_cat['alcaldia'] = label_encoder.fit_transform(datos_cat['alcaldia'])\n",
    "datos_cat['colonia'] = label_encoder.fit_transform(datos_cat['colonia'])\n",
    "datos_cat['bimestre'] = label_encoder.fit_transform(datos_cat['bimestre'])\n",
    "datos_cat['gid'] = label_encoder.fit_transform(datos_cat['gid'])\n",
    "datos_cat['indice_des'] = label_encoder.fit_transform(datos_cat['indice_des'])\n",
    "datos_cat['consumo_total_alto'] = label_encoder.fit_transform(datos_cat['consumo_total_alto'])"
   ]
  },
  {
   "cell_type": "code",
   "execution_count": 196,
   "metadata": {},
   "outputs": [
    {
     "data": {
      "text/html": [
       "<div>\n",
       "<style scoped>\n",
       "    .dataframe tbody tr th:only-of-type {\n",
       "        vertical-align: middle;\n",
       "    }\n",
       "\n",
       "    .dataframe tbody tr th {\n",
       "        vertical-align: top;\n",
       "    }\n",
       "\n",
       "    .dataframe thead th {\n",
       "        text-align: right;\n",
       "    }\n",
       "</style>\n",
       "<table border=\"1\" class=\"dataframe\">\n",
       "  <thead>\n",
       "    <tr style=\"text-align: right;\">\n",
       "      <th></th>\n",
       "      <th>alcaldia</th>\n",
       "      <th>colonia</th>\n",
       "      <th>bimestre</th>\n",
       "      <th>gid</th>\n",
       "      <th>indice_des</th>\n",
       "      <th>consumo_total_alto</th>\n",
       "    </tr>\n",
       "  </thead>\n",
       "  <tbody>\n",
       "    <tr>\n",
       "      <td>18387</td>\n",
       "      <td>10</td>\n",
       "      <td>1251</td>\n",
       "      <td>1</td>\n",
       "      <td>20833</td>\n",
       "      <td>0</td>\n",
       "      <td>0</td>\n",
       "    </tr>\n",
       "    <tr>\n",
       "      <td>36940</td>\n",
       "      <td>8</td>\n",
       "      <td>944</td>\n",
       "      <td>0</td>\n",
       "      <td>10040</td>\n",
       "      <td>1</td>\n",
       "      <td>1</td>\n",
       "    </tr>\n",
       "    <tr>\n",
       "      <td>61225</td>\n",
       "      <td>8</td>\n",
       "      <td>1002</td>\n",
       "      <td>0</td>\n",
       "      <td>12808</td>\n",
       "      <td>1</td>\n",
       "      <td>0</td>\n",
       "    </tr>\n",
       "    <tr>\n",
       "      <td>1376</td>\n",
       "      <td>6</td>\n",
       "      <td>398</td>\n",
       "      <td>0</td>\n",
       "      <td>4814</td>\n",
       "      <td>3</td>\n",
       "      <td>1</td>\n",
       "    </tr>\n",
       "    <tr>\n",
       "      <td>30103</td>\n",
       "      <td>3</td>\n",
       "      <td>376</td>\n",
       "      <td>1</td>\n",
       "      <td>36086</td>\n",
       "      <td>3</td>\n",
       "      <td>1</td>\n",
       "    </tr>\n",
       "    <tr>\n",
       "      <td>11233</td>\n",
       "      <td>7</td>\n",
       "      <td>1063</td>\n",
       "      <td>0</td>\n",
       "      <td>32690</td>\n",
       "      <td>2</td>\n",
       "      <td>1</td>\n",
       "    </tr>\n",
       "    <tr>\n",
       "      <td>44899</td>\n",
       "      <td>12</td>\n",
       "      <td>753</td>\n",
       "      <td>1</td>\n",
       "      <td>28616</td>\n",
       "      <td>0</td>\n",
       "      <td>1</td>\n",
       "    </tr>\n",
       "    <tr>\n",
       "      <td>31674</td>\n",
       "      <td>3</td>\n",
       "      <td>1087</td>\n",
       "      <td>2</td>\n",
       "      <td>55741</td>\n",
       "      <td>0</td>\n",
       "      <td>1</td>\n",
       "    </tr>\n",
       "    <tr>\n",
       "      <td>29309</td>\n",
       "      <td>8</td>\n",
       "      <td>307</td>\n",
       "      <td>1</td>\n",
       "      <td>32383</td>\n",
       "      <td>1</td>\n",
       "      <td>1</td>\n",
       "    </tr>\n",
       "    <tr>\n",
       "      <td>56811</td>\n",
       "      <td>1</td>\n",
       "      <td>208</td>\n",
       "      <td>2</td>\n",
       "      <td>50405</td>\n",
       "      <td>1</td>\n",
       "      <td>1</td>\n",
       "    </tr>\n",
       "  </tbody>\n",
       "</table>\n",
       "</div>"
      ],
      "text/plain": [
       "       alcaldia  colonia  bimestre    gid  indice_des  consumo_total_alto\n",
       "18387        10     1251         1  20833           0                   0\n",
       "36940         8      944         0  10040           1                   1\n",
       "61225         8     1002         0  12808           1                   0\n",
       "1376          6      398         0   4814           3                   1\n",
       "30103         3      376         1  36086           3                   1\n",
       "11233         7     1063         0  32690           2                   1\n",
       "44899        12      753         1  28616           0                   1\n",
       "31674         3     1087         2  55741           0                   1\n",
       "29309         8      307         1  32383           1                   1\n",
       "56811         1      208         2  50405           1                   1"
      ]
     },
     "execution_count": 196,
     "metadata": {},
     "output_type": "execute_result"
    }
   ],
   "source": [
    "datos_cat.sample(10)"
   ]
  },
  {
   "cell_type": "code",
   "execution_count": 197,
   "metadata": {},
   "outputs": [],
   "source": [
    "X = datos_cat.drop('consumo_total_alto',axis=1)\n",
    "y = datos_cat['consumo_total_alto']"
   ]
  },
  {
   "cell_type": "code",
   "execution_count": 198,
   "metadata": {},
   "outputs": [],
   "source": [
    "chi_scores = chi2(X,y)"
   ]
  },
  {
   "cell_type": "code",
   "execution_count": 199,
   "metadata": {},
   "outputs": [
    {
     "data": {
      "text/plain": [
       "(array([ 4.25438655e+03,  3.39646606e+03,  1.68799122e+01, -1.04380981e+10,\n",
       "         4.71510972e+02]),\n",
       " array([0.00000000e+000, 0.00000000e+000, 3.98207848e-005, 1.00000000e+000,\n",
       "        1.50304247e-104]))"
      ]
     },
     "execution_count": 199,
     "metadata": {},
     "output_type": "execute_result"
    }
   ],
   "source": [
    "#first array represents chi square values and second array represents p-values\n",
    "chi_scores"
   ]
  },
  {
   "cell_type": "code",
   "execution_count": 200,
   "metadata": {},
   "outputs": [
    {
     "data": {
      "text/plain": [
       "alcaldia       0.000000e+00\n",
       "colonia        0.000000e+00\n",
       "bimestre       3.982078e-05\n",
       "gid            1.000000e+00\n",
       "indice_des    1.503042e-104\n",
       "dtype: float64"
      ]
     },
     "execution_count": 200,
     "metadata": {},
     "output_type": "execute_result"
    }
   ],
   "source": [
    "p_values = pd.Series(chi_scores[1],index = X.columns)\n",
    "p_values"
   ]
  },
  {
   "cell_type": "code",
   "execution_count": 201,
   "metadata": {},
   "outputs": [
    {
     "data": {
      "text/plain": [
       "array([0.00000000e+000, 0.00000000e+000, 3.98207848e-005, 1.00000000e+000,\n",
       "       1.50304247e-104])"
      ]
     },
     "execution_count": 201,
     "metadata": {},
     "output_type": "execute_result"
    }
   ],
   "source": [
    "p_values.values"
   ]
  },
  {
   "cell_type": "code",
   "execution_count": 202,
   "metadata": {},
   "outputs": [
    {
     "data": {
      "text/plain": [
       "Index(['alcaldia', 'colonia', 'bimestre', 'gid', 'indice_des'], dtype='object')"
      ]
     },
     "execution_count": 202,
     "metadata": {},
     "output_type": "execute_result"
    }
   ],
   "source": [
    "p_values.index"
   ]
  },
  {
   "cell_type": "code",
   "execution_count": null,
   "metadata": {},
   "outputs": [],
   "source": []
  },
  {
   "cell_type": "code",
   "execution_count": 203,
   "metadata": {},
   "outputs": [
    {
     "data": {
      "text/html": [
       "<div>\n",
       "<style scoped>\n",
       "    .dataframe tbody tr th:only-of-type {\n",
       "        vertical-align: middle;\n",
       "    }\n",
       "\n",
       "    .dataframe tbody tr th {\n",
       "        vertical-align: top;\n",
       "    }\n",
       "\n",
       "    .dataframe thead th {\n",
       "        text-align: right;\n",
       "    }\n",
       "</style>\n",
       "<table border=\"1\" class=\"dataframe\">\n",
       "  <thead>\n",
       "    <tr style=\"text-align: right;\">\n",
       "      <th></th>\n",
       "      <th>0</th>\n",
       "    </tr>\n",
       "  </thead>\n",
       "  <tbody>\n",
       "    <tr>\n",
       "      <td>alcaldia</td>\n",
       "      <td>0.000000e+00</td>\n",
       "    </tr>\n",
       "    <tr>\n",
       "      <td>colonia</td>\n",
       "      <td>0.000000e+00</td>\n",
       "    </tr>\n",
       "    <tr>\n",
       "      <td>bimestre</td>\n",
       "      <td>3.982078e-05</td>\n",
       "    </tr>\n",
       "    <tr>\n",
       "      <td>gid</td>\n",
       "      <td>1.000000e+00</td>\n",
       "    </tr>\n",
       "    <tr>\n",
       "      <td>indice_des</td>\n",
       "      <td>1.503042e-104</td>\n",
       "    </tr>\n",
       "  </tbody>\n",
       "</table>\n",
       "</div>"
      ],
      "text/plain": [
       "                        0\n",
       "alcaldia     0.000000e+00\n",
       "colonia      0.000000e+00\n",
       "bimestre     3.982078e-05\n",
       "gid          1.000000e+00\n",
       "indice_des  1.503042e-104"
      ]
     },
     "execution_count": 203,
     "metadata": {},
     "output_type": "execute_result"
    }
   ],
   "source": [
    "p_valuesalfa = pd.DataFrame(chi_scores[1],index = X.columns)\n",
    "p_valuesalfa"
   ]
  },
  {
   "cell_type": "code",
   "execution_count": 204,
   "metadata": {},
   "outputs": [],
   "source": [
    "p_valuesalfa.rename(columns = {0:'p-values'}, inplace = True) "
   ]
  },
  {
   "cell_type": "code",
   "execution_count": 205,
   "metadata": {},
   "outputs": [
    {
     "data": {
      "text/html": [
       "<div>\n",
       "<style scoped>\n",
       "    .dataframe tbody tr th:only-of-type {\n",
       "        vertical-align: middle;\n",
       "    }\n",
       "\n",
       "    .dataframe tbody tr th {\n",
       "        vertical-align: top;\n",
       "    }\n",
       "\n",
       "    .dataframe thead th {\n",
       "        text-align: right;\n",
       "    }\n",
       "</style>\n",
       "<table border=\"1\" class=\"dataframe\">\n",
       "  <thead>\n",
       "    <tr style=\"text-align: right;\">\n",
       "      <th></th>\n",
       "      <th>p-values</th>\n",
       "    </tr>\n",
       "  </thead>\n",
       "  <tbody>\n",
       "    <tr>\n",
       "      <td>alcaldia</td>\n",
       "      <td>0.000000e+00</td>\n",
       "    </tr>\n",
       "    <tr>\n",
       "      <td>colonia</td>\n",
       "      <td>0.000000e+00</td>\n",
       "    </tr>\n",
       "    <tr>\n",
       "      <td>bimestre</td>\n",
       "      <td>3.982078e-05</td>\n",
       "    </tr>\n",
       "    <tr>\n",
       "      <td>gid</td>\n",
       "      <td>1.000000e+00</td>\n",
       "    </tr>\n",
       "    <tr>\n",
       "      <td>indice_des</td>\n",
       "      <td>1.503042e-104</td>\n",
       "    </tr>\n",
       "  </tbody>\n",
       "</table>\n",
       "</div>"
      ],
      "text/plain": [
       "                 p-values\n",
       "alcaldia     0.000000e+00\n",
       "colonia      0.000000e+00\n",
       "bimestre     3.982078e-05\n",
       "gid          1.000000e+00\n",
       "indice_des  1.503042e-104"
      ]
     },
     "execution_count": 205,
     "metadata": {},
     "output_type": "execute_result"
    }
   ],
   "source": [
    "p_valuesalfa"
   ]
  },
  {
   "cell_type": "code",
   "execution_count": 206,
   "metadata": {},
   "outputs": [],
   "source": [
    "p_valuesalfa['significancia'] = np.where(p_valuesalfa['p-values']<.05, 'significativa', 'no significativa')"
   ]
  },
  {
   "cell_type": "code",
   "execution_count": 207,
   "metadata": {},
   "outputs": [
    {
     "data": {
      "text/plain": [
       "Index(['alcaldia', 'colonia', 'bimestre', 'gid', 'indice_des'], dtype='object')"
      ]
     },
     "execution_count": 207,
     "metadata": {},
     "output_type": "execute_result"
    }
   ],
   "source": [
    "p_valuesalfa.index"
   ]
  },
  {
   "cell_type": "code",
   "execution_count": 208,
   "metadata": {},
   "outputs": [
    {
     "data": {
      "text/html": [
       "<div>\n",
       "<style scoped>\n",
       "    .dataframe tbody tr th:only-of-type {\n",
       "        vertical-align: middle;\n",
       "    }\n",
       "\n",
       "    .dataframe tbody tr th {\n",
       "        vertical-align: top;\n",
       "    }\n",
       "\n",
       "    .dataframe thead th {\n",
       "        text-align: right;\n",
       "    }\n",
       "</style>\n",
       "<table border=\"1\" class=\"dataframe\">\n",
       "  <thead>\n",
       "    <tr style=\"text-align: right;\">\n",
       "      <th></th>\n",
       "      <th>p-values</th>\n",
       "      <th>significancia</th>\n",
       "    </tr>\n",
       "  </thead>\n",
       "  <tbody>\n",
       "    <tr>\n",
       "      <td>alcaldia</td>\n",
       "      <td>0.000000e+00</td>\n",
       "      <td>significativa</td>\n",
       "    </tr>\n",
       "    <tr>\n",
       "      <td>colonia</td>\n",
       "      <td>0.000000e+00</td>\n",
       "      <td>significativa</td>\n",
       "    </tr>\n",
       "    <tr>\n",
       "      <td>bimestre</td>\n",
       "      <td>3.982078e-05</td>\n",
       "      <td>significativa</td>\n",
       "    </tr>\n",
       "    <tr>\n",
       "      <td>gid</td>\n",
       "      <td>1.000000e+00</td>\n",
       "      <td>no significativa</td>\n",
       "    </tr>\n",
       "    <tr>\n",
       "      <td>indice_des</td>\n",
       "      <td>1.503042e-104</td>\n",
       "      <td>significativa</td>\n",
       "    </tr>\n",
       "  </tbody>\n",
       "</table>\n",
       "</div>"
      ],
      "text/plain": [
       "                 p-values     significancia\n",
       "alcaldia     0.000000e+00     significativa\n",
       "colonia      0.000000e+00     significativa\n",
       "bimestre     3.982078e-05     significativa\n",
       "gid          1.000000e+00  no significativa\n",
       "indice_des  1.503042e-104     significativa"
      ]
     },
     "execution_count": 208,
     "metadata": {},
     "output_type": "execute_result"
    }
   ],
   "source": [
    "p_valuesalfa"
   ]
  },
  {
   "cell_type": "code",
   "execution_count": 209,
   "metadata": {},
   "outputs": [
    {
     "data": {
      "text/html": [
       "<div>\n",
       "<style scoped>\n",
       "    .dataframe tbody tr th:only-of-type {\n",
       "        vertical-align: middle;\n",
       "    }\n",
       "\n",
       "    .dataframe tbody tr th {\n",
       "        vertical-align: top;\n",
       "    }\n",
       "\n",
       "    .dataframe thead th {\n",
       "        text-align: right;\n",
       "    }\n",
       "</style>\n",
       "<table border=\"1\" class=\"dataframe\">\n",
       "  <thead>\n",
       "    <tr style=\"text-align: right;\">\n",
       "      <th></th>\n",
       "      <th>p-values</th>\n",
       "      <th>significancia</th>\n",
       "    </tr>\n",
       "  </thead>\n",
       "  <tbody>\n",
       "    <tr>\n",
       "      <td>gid</td>\n",
       "      <td>1.0</td>\n",
       "      <td>no significativa</td>\n",
       "    </tr>\n",
       "  </tbody>\n",
       "</table>\n",
       "</div>"
      ],
      "text/plain": [
       "     p-values     significancia\n",
       "gid       1.0  no significativa"
      ]
     },
     "execution_count": 209,
     "metadata": {},
     "output_type": "execute_result"
    }
   ],
   "source": [
    "p_valuesalfa[p_valuesalfa.significancia != 'significativa']"
   ]
  },
  {
   "cell_type": "code",
   "execution_count": 211,
   "metadata": {},
   "outputs": [
    {
     "data": {
      "text/html": [
       "<div>\n",
       "<style scoped>\n",
       "    .dataframe tbody tr th:only-of-type {\n",
       "        vertical-align: middle;\n",
       "    }\n",
       "\n",
       "    .dataframe tbody tr th {\n",
       "        vertical-align: top;\n",
       "    }\n",
       "\n",
       "    .dataframe thead th {\n",
       "        text-align: right;\n",
       "    }\n",
       "</style>\n",
       "<table border=\"1\" class=\"dataframe\">\n",
       "  <thead>\n",
       "    <tr style=\"text-align: right;\">\n",
       "      <th></th>\n",
       "      <th>p-values</th>\n",
       "      <th>significancia</th>\n",
       "    </tr>\n",
       "  </thead>\n",
       "  <tbody>\n",
       "    <tr>\n",
       "      <td>alcaldia</td>\n",
       "      <td>0.000000e+00</td>\n",
       "      <td>significativa</td>\n",
       "    </tr>\n",
       "    <tr>\n",
       "      <td>colonia</td>\n",
       "      <td>0.000000e+00</td>\n",
       "      <td>significativa</td>\n",
       "    </tr>\n",
       "    <tr>\n",
       "      <td>bimestre</td>\n",
       "      <td>3.982078e-05</td>\n",
       "      <td>significativa</td>\n",
       "    </tr>\n",
       "    <tr>\n",
       "      <td>indice_des</td>\n",
       "      <td>1.503042e-104</td>\n",
       "      <td>significativa</td>\n",
       "    </tr>\n",
       "  </tbody>\n",
       "</table>\n",
       "</div>"
      ],
      "text/plain": [
       "                 p-values  significancia\n",
       "alcaldia     0.000000e+00  significativa\n",
       "colonia      0.000000e+00  significativa\n",
       "bimestre     3.982078e-05  significativa\n",
       "indice_des  1.503042e-104  significativa"
      ]
     },
     "execution_count": 211,
     "metadata": {},
     "output_type": "execute_result"
    }
   ],
   "source": [
    "p_valuesalfa.loc[p_valuesalfa.significancia == 'significativa']"
   ]
  },
  {
   "cell_type": "code",
   "execution_count": 213,
   "metadata": {},
   "outputs": [],
   "source": [
    "lista_significativas=p_valuesalfa.loc[p_valuesalfa.significancia == 'significativa'].index"
   ]
  },
  {
   "cell_type": "code",
   "execution_count": 214,
   "metadata": {},
   "outputs": [],
   "source": [
    "variables_categoricas_significativas = datos.loc[:, lista_significativas]"
   ]
  },
  {
   "cell_type": "code",
   "execution_count": 215,
   "metadata": {},
   "outputs": [
    {
     "data": {
      "text/html": [
       "<div>\n",
       "<style scoped>\n",
       "    .dataframe tbody tr th:only-of-type {\n",
       "        vertical-align: middle;\n",
       "    }\n",
       "\n",
       "    .dataframe tbody tr th {\n",
       "        vertical-align: top;\n",
       "    }\n",
       "\n",
       "    .dataframe thead th {\n",
       "        text-align: right;\n",
       "    }\n",
       "</style>\n",
       "<table border=\"1\" class=\"dataframe\">\n",
       "  <thead>\n",
       "    <tr style=\"text-align: right;\">\n",
       "      <th></th>\n",
       "      <th>alcaldia</th>\n",
       "      <th>colonia</th>\n",
       "      <th>bimestre</th>\n",
       "      <th>indice_des</th>\n",
       "    </tr>\n",
       "  </thead>\n",
       "  <tbody>\n",
       "    <tr>\n",
       "      <td>0</td>\n",
       "      <td>azcapotzalco</td>\n",
       "      <td>tierra nueva</td>\n",
       "      <td>1</td>\n",
       "      <td>bajo</td>\n",
       "    </tr>\n",
       "    <tr>\n",
       "      <td>1</td>\n",
       "      <td>azcapotzalco</td>\n",
       "      <td>tierra nueva</td>\n",
       "      <td>1</td>\n",
       "      <td>bajo</td>\n",
       "    </tr>\n",
       "    <tr>\n",
       "      <td>2</td>\n",
       "      <td>azcapotzalco</td>\n",
       "      <td>san antonio</td>\n",
       "      <td>1</td>\n",
       "      <td>medio</td>\n",
       "    </tr>\n",
       "    <tr>\n",
       "      <td>3</td>\n",
       "      <td>azcapotzalco</td>\n",
       "      <td>san antonio</td>\n",
       "      <td>1</td>\n",
       "      <td>bajo</td>\n",
       "    </tr>\n",
       "    <tr>\n",
       "      <td>4</td>\n",
       "      <td>azcapotzalco</td>\n",
       "      <td>san antonio</td>\n",
       "      <td>1</td>\n",
       "      <td>bajo</td>\n",
       "    </tr>\n",
       "    <tr>\n",
       "      <td>...</td>\n",
       "      <td>...</td>\n",
       "      <td>...</td>\n",
       "      <td>...</td>\n",
       "      <td>...</td>\n",
       "    </tr>\n",
       "    <tr>\n",
       "      <td>71097</td>\n",
       "      <td>gustavo a. madero</td>\n",
       "      <td>la malinche</td>\n",
       "      <td>3</td>\n",
       "      <td>bajo</td>\n",
       "    </tr>\n",
       "    <tr>\n",
       "      <td>71098</td>\n",
       "      <td>gustavo a. madero</td>\n",
       "      <td>la malinche</td>\n",
       "      <td>3</td>\n",
       "      <td>bajo</td>\n",
       "    </tr>\n",
       "    <tr>\n",
       "      <td>71099</td>\n",
       "      <td>gustavo a. madero</td>\n",
       "      <td>la malinche</td>\n",
       "      <td>3</td>\n",
       "      <td>bajo</td>\n",
       "    </tr>\n",
       "    <tr>\n",
       "      <td>71100</td>\n",
       "      <td>gustavo a. madero</td>\n",
       "      <td>la malinche</td>\n",
       "      <td>3</td>\n",
       "      <td>bajo</td>\n",
       "    </tr>\n",
       "    <tr>\n",
       "      <td>71101</td>\n",
       "      <td>gustavo a. madero</td>\n",
       "      <td>la malinche</td>\n",
       "      <td>3</td>\n",
       "      <td>bajo</td>\n",
       "    </tr>\n",
       "  </tbody>\n",
       "</table>\n",
       "<p>71102 rows × 4 columns</p>\n",
       "</div>"
      ],
      "text/plain": [
       "                alcaldia       colonia bimestre indice_des\n",
       "0           azcapotzalco  tierra nueva        1       bajo\n",
       "1           azcapotzalco  tierra nueva        1       bajo\n",
       "2           azcapotzalco   san antonio        1      medio\n",
       "3           azcapotzalco   san antonio        1       bajo\n",
       "4           azcapotzalco   san antonio        1       bajo\n",
       "...                  ...           ...      ...        ...\n",
       "71097  gustavo a. madero   la malinche        3       bajo\n",
       "71098  gustavo a. madero   la malinche        3       bajo\n",
       "71099  gustavo a. madero   la malinche        3       bajo\n",
       "71100  gustavo a. madero   la malinche        3       bajo\n",
       "71101  gustavo a. madero   la malinche        3       bajo\n",
       "\n",
       "[71102 rows x 4 columns]"
      ]
     },
     "execution_count": 215,
     "metadata": {},
     "output_type": "execute_result"
    }
   ],
   "source": [
    "variables_categoricas_significativas"
   ]
  },
  {
   "cell_type": "code",
   "execution_count": null,
   "metadata": {},
   "outputs": [],
   "source": []
  },
  {
   "cell_type": "code",
   "execution_count": null,
   "metadata": {},
   "outputs": [],
   "source": []
  },
  {
   "cell_type": "code",
   "execution_count": 61,
   "metadata": {},
   "outputs": [],
   "source": [
    "def selecciona_variables_(archivo):\n",
    "        lista_variables_numericas=archivo.select_dtypes(include = 'number').columns.values\n",
    "        archivo_variables_numericas = archivo.loc[:, lista_variables_numericas]\n",
    "        return archivo_variables_numericas"
   ]
  },
  {
   "cell_type": "code",
   "execution_count": 30,
   "metadata": {},
   "outputs": [],
   "source": [
    "p_values = pd.Series(chi_scores[1],index = X.columns)\n",
    "p_values.sort_values(ascending = False , inplace = True)"
   ]
  },
  {
   "cell_type": "code",
   "execution_count": 60,
   "metadata": {},
   "outputs": [
    {
     "data": {
      "text/plain": [
       "<matplotlib.axes._subplots.AxesSubplot at 0x1c5227fa408>"
      ]
     },
     "execution_count": 60,
     "metadata": {},
     "output_type": "execute_result"
    },
    {
     "data": {
      "image/png": "[encoded data removed]",
      "text/plain": [
       "<Figure size 432x288 with 1 Axes>"
      ]
     },
     "metadata": {
      "needs_background": "light"
     },
     "output_type": "display_data"
    }
   ],
   "source": [
    "p_values.plot.bar()"
   ]
  },
  {
   "cell_type": "markdown",
   "metadata": {},
   "source": [
    "Since gid has p-value>.05, it says that this variable is independent of the response \"consumo_total_alto\" and can not be considered for model training"
   ]
  },
  {
   "cell_type": "code",
   "execution_count": 32,
   "metadata": {},
   "outputs": [],
   "source": [
    "X2 = datos_cat.drop(['consumo_total_alto','gid'],axis=1)\n",
    "y = datos_cat['consumo_total_alto']"
   ]
  },
  {
   "cell_type": "code",
   "execution_count": 33,
   "metadata": {},
   "outputs": [],
   "source": [
    "chi_scores2 = chi2(X2,y)"
   ]
  },
  {
   "cell_type": "code",
   "execution_count": 34,
   "metadata": {},
   "outputs": [
    {
     "data": {
      "text/plain": [
       "(array([4254.38655312, 3396.46606084,   16.87991217,  471.51097211]),\n",
       " array([0.00000000e+000, 0.00000000e+000, 3.98207848e-005, 1.50304247e-104]))"
      ]
     },
     "execution_count": 34,
     "metadata": {},
     "output_type": "execute_result"
    }
   ],
   "source": [
    "chi_scores2"
   ]
  },
  {
   "cell_type": "code",
   "execution_count": 35,
   "metadata": {},
   "outputs": [],
   "source": [
    "p_values2 = pd.Series(chi_scores2[1],index = X2.columns)\n",
    "p_values2.sort_values(ascending = False , inplace = True)"
   ]
  },
  {
   "cell_type": "code",
   "execution_count": 36,
   "metadata": {},
   "outputs": [
    {
     "data": {
      "text/plain": [
       "<matplotlib.axes._subplots.AxesSubplot at 0x1c5247f6148>"
      ]
     },
     "execution_count": 36,
     "metadata": {},
     "output_type": "execute_result"
    },
    {
     "data": {
      "image/png": "[encoded data removed]",
      "text/plain": [
       "<Figure size 432x288 with 1 Axes>"
      ]
     },
     "metadata": {
      "needs_background": "light"
     },
     "output_type": "display_data"
    }
   ],
   "source": [
    "p_values2.plot.bar()"
   ]
  },
  {
   "cell_type": "code",
   "execution_count": 37,
   "metadata": {},
   "outputs": [],
   "source": [
    "X3 = datos_cat.drop(['consumo_total_alto','gid','bimestre'],axis=1)\n",
    "y = datos_cat['consumo_total_alto']"
   ]
  },
  {
   "cell_type": "code",
   "execution_count": 38,
   "metadata": {},
   "outputs": [],
   "source": [
    "chi_scores3 = chi2(X3,y)"
   ]
  },
  {
   "cell_type": "code",
   "execution_count": 39,
   "metadata": {},
   "outputs": [
    {
     "data": {
      "text/plain": [
       "(array([4254.38655312, 3396.46606084,  471.51097211]),\n",
       " array([0.00000000e+000, 0.00000000e+000, 1.50304247e-104]))"
      ]
     },
     "execution_count": 39,
     "metadata": {},
     "output_type": "execute_result"
    }
   ],
   "source": [
    "chi_scores3"
   ]
  },
  {
   "cell_type": "code",
   "execution_count": 40,
   "metadata": {},
   "outputs": [],
   "source": [
    "p_values3 = pd.Series(chi_scores3[1],index = X3.columns)\n",
    "p_values3.sort_values(ascending = False , inplace = True)"
   ]
  },
  {
   "cell_type": "code",
   "execution_count": 41,
   "metadata": {},
   "outputs": [
    {
     "data": {
      "text/plain": [
       "<matplotlib.axes._subplots.AxesSubplot at 0x1c523b4c308>"
      ]
     },
     "execution_count": 41,
     "metadata": {},
     "output_type": "execute_result"
    },
    {
     "data": {
      "image/png": "[encoded data removed]",
      "text/plain": [
       "<Figure size 432x288 with 1 Axes>"
      ]
     },
     "metadata": {
      "needs_background": "light"
     },
     "output_type": "display_data"
    }
   ],
   "source": [
    "p_values3.plot.bar()"
   ]
  },
  {
   "cell_type": "markdown",
   "metadata": {},
   "source": [
    "Se verifica que los valores de p-value no se modifican cuando eliminas variables de tu dataset de categóricas. Por tanto, la función \"chi_squared()\" sólo debe hacer una iteración sobre chi2 para eliminar tods las variables con p-value>alfa=.05"
   ]
  },
  {
   "cell_type": "code",
   "execution_count": null,
   "metadata": {},
   "outputs": [],
   "source": []
  },
  {
   "cell_type": "code",
   "execution_count": null,
   "metadata": {},
   "outputs": [],
   "source": []
  },
  {
   "cell_type": "code",
   "execution_count": null,
   "metadata": {},
   "outputs": [],
   "source": []
  },
  {
   "cell_type": "code",
   "execution_count": null,
   "metadata": {},
   "outputs": [],
   "source": []
  },
  {
   "cell_type": "code",
   "execution_count": 4,
   "metadata": {
    "scrolled": true
   },
   "outputs": [
    {
     "name": "stdout",
     "output_type": "stream",
     "text": [
      "Collecting scikit-learn\n",
      "  Downloading https://files.pythonhosted.org/packages/d6/9e/6a42486ffa64711fb868e5d4a9167153417e7414c3d8d3e0d627cf391e1e/scikit_learn-0.21.3-cp37-cp37m-win_amd64.whl (5.9MB)\n",
      "Requirement already satisfied, skipping upgrade: numpy>=1.11.0 in c:\\users\\dor3l\\anaconda3\\envs\\ipykernel_py3\\lib\\site-packages (from scikit-learn) (1.17.2)\n",
      "Requirement already satisfied, skipping upgrade: scipy>=0.17.0 in c:\\users\\dor3l\\anaconda3\\envs\\ipykernel_py3\\lib\\site-packages (from scikit-learn) (1.3.1)\n",
      "Collecting joblib>=0.11 (from scikit-learn)\n",
      "  Using cached https://files.pythonhosted.org/packages/8f/42/155696f85f344c066e17af287359c9786b436b1bf86029bb3411283274f3/joblib-0.14.0-py2.py3-none-any.whl\n",
      "Installing collected packages: joblib, scikit-learn\n",
      "Successfully installed joblib-0.14.0 scikit-learn-0.21.3\n",
      "Note: you may need to restart the kernel to use updated packages.\n"
     ]
    }
   ],
   "source": [
    "pip install -U scikit-learn"
   ]
  }
 ],
 "metadata": {
  "hide_code_all_hidden": false,
  "kernelspec": {
   "display_name": "Python 3",
   "language": "python",
   "name": "python3"
  },
  "language_info": {
   "codemirror_mode": {
    "name": "ipython",
    "version": 3
   },
   "file_extension": ".py",
   "mimetype": "text/x-python",
   "name": "python",
   "nbconvert_exporter": "python",
   "pygments_lexer": "ipython3",
   "version": "3.7.4"
  }
 },
 "nbformat": 4,
 "nbformat_minor": 4
}

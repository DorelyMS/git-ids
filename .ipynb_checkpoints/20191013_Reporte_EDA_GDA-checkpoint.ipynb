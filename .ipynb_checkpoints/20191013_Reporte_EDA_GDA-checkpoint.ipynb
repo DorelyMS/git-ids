{
 "cells": [
  {
   "cell_type": "markdown",
   "metadata": {},
   "source": [
    "## Análisis Exploratorio de Datos de base de Consumo de Agua en la Ciudad de México\n",
    "\n",
    "\n",
    "Una vez hecha la carga, limpieza y transformación de la información, se obtuvieron las siguientes variables:\n",
    "\n",
    "**Variables numéricas:**\n",
    "\n",
    "* consumo_total_mixto     float64\n",
    "* anio                      int64\n",
    "* consumo_prom_dom        float64\n",
    "* consumo_total_dom       float64\n",
    "* consumo_prom_mixto      float64\n",
    "* consumo_total           float64\n",
    "* consumo_prom            float64\n",
    "* consumo_prom_no_dom     float64\n",
    "* bimestre                  int64\n",
    "* consumo_total_no_dom    float64\n",
    "* gid                       int64\n",
    "* latitud                 float64\n",
    "* longitud                float64\n",
    "\n",
    "**Variables categóricas:**\n",
    "\n",
    "* nomgeo                   object\n",
    "* alcaldia                 object\n",
    "* colonia                  object\n",
    "* indice_des               object"
   ]
  },
  {
   "cell_type": "markdown",
   "metadata": {},
   "source": [
    "## Nota aclaratoria\n",
    "\n",
    "\n",
    "Se agrega la información de las variables según la nota aclaratoria de los datos encontrada en: https://datos.cdmx.gob.mx/api/datasets/1.0/consumo-agua/attachments/nota_aclaratoria_xlsx/\n",
    "\n",
    "**Tipos de emisión**\n",
    "\n",
    "* Consumo medido: Tratándose de tomas de agua donde se encuentre instalado o autorizado el medidor de consumo por parte del Sistema de Aguas.\n",
    "* Consumo promedio: El consumo promedio se considerará de la siguiente manera:\n",
    "    - A falta de aparato medidor, en proceso de instalación o por imposibilidad material para ser instalado, dicho consumo promedio corresponderá a la colonia catastral en el que se encuentra el inmueble en que esté instalada la toma, siempre y cuando dicha colonia catastral el número de tomas con servicio medido sea mayor o igual al 70% del total de las tomas existentes en la colonia. El Sistema de Aguas publicará anualmente en la Gaceta Oficial de la Ciudad de México, la lista de las colonias catastrales que vayan contando con un 70% o más tomas con servicio medido, así como el consumo promedio de cada una de ellas en el ejercicio fiscal inmediato anterior.\n",
    "    - Por descompostura del aparato medidor de consumo o cuando exista la imposibilidad de efectuar su lectura, se pagará tomando como base el consumo promedio de los últimos seis bimestres medidos del mismo uso que el actual anteriores al que se factura, sin que exceda de los últimos cinco ejercicios fiscales, quedando fuera de la estadística, el bimestre con facturación más alta.\n",
    "\n",
    "**Uso**\n",
    "\n",
    "* Doméstico: Inmuebles de uso Habitacional.\n",
    "* No Doméstico: Inmuebles de uso no Habitacional\n",
    "* Mixto: Inmuebles de uso Doméstico y No Doméstico simultáneamente\n",
    "\n",
    "**Manzana**\n",
    "\n",
    "* Es un segmento de la región que regularmente está delimitado por tres o más calles o límites semejantes, representada por los tres siguientes dígitos del mencionado número de cuenta catastral.\n",
    "\n",
    "**Región**\n",
    "\n",
    "* Circunscripción convencional del territorio de la Ciudad de México determinada con fines de control catastral de los inmuebles, representada por los tres primeros dígitos del número de cuenta catastral asignado por la autoridad fiscal.\n",
    "\n",
    "**Índice de Desarrollo**\n",
    "\n",
    "* Índice de Desarrollo: Construcción estadística mediante variables de tipo socioeconómico derivadas de información oficial, permite diferenciar territorialmente a la población de la Ciudad de México de acuerdo a su nivel de desarrollo económico, agregando la información a nivel manzana.\n",
    "    - Popular: Clasificación que engloba a las manzanas que guardan características socioeconómicas similares y que se tipifican por tener los niveles de desarrollo más bajos de la Ciudad. En esta categoría se agrupa, además, las manzana que se encuentran dentro de la zona rural de la Ciudad de México.\n",
    "    \n",
    "    - Bajo: Clasificación que engloba a las manzanas que guardan características socioeconómicas similares y que se tipifican por tener niveles de desarrollo bajo de la Ciudad.\n",
    "    \n",
    "    - Medio: Clasificación que engloba a las manzanas que guardan características socioeconómicas similares y que se tipifican por tener niveles de desarrollo medio de la Ciudad.\n",
    "    \n",
    "    - Alto: Clasificación que engloba a las manzanas que guardan características socioeconómicas  similares y que se tipifican por tener niveles los más altos niveles de desarrollo de la Ciudad."
   ]
  },
  {
   "cell_type": "markdown",
   "metadata": {},
   "source": [
    "A las cuales se les aplicó un resúmen estadístico (data profiling), dando por resultado lo siguiente:\n",
    "\n",
    "**Data profiling de las variables numéricas:**"
   ]
  },
  {
   "cell_type": "code",
   "execution_count": 5,
   "metadata": {},
   "outputs": [],
   "source": [
    "#Aquí va el código del Resumen de variables numéricas\n"
   ]
  },
  {
   "cell_type": "markdown",
   "metadata": {},
   "source": [
    "**Hallazgos:**\n",
    "\n",
    "* Identificamos que los valores máximos de las variables de consumo son signicativamente más grandes que el cuantil del 75%, lo cual indica que existen valores atípicos con consumos extremadamente altos.\n",
    "* Observamos que el valor mínimo de las variables de consumo es cero lo cual indicaría que no hay una medición en algunas de las manzanas.\n",
    "* La media del consumo total en establecimientos domésticos es superior al consumo total en no domésticos y establecimientos mixtos.\n",
    "* Sin embargo, la media del consumo promedio en establecimientos no domésticos es la más grande, seguido de los mixtos y por último, los  domésticos. \n",
    "* El consumo total siempre es mayor o igual al consumo promedio ya que basados en la nota aclaratoria de los datos, el consumo promedio se considera cuando no hay un aparato medidor instalado o por descomportura que imposibilite la lectura del consumo\n",
    "* Las desviaciones estándar son altas respecto a la media debido a los valores atípicos que identificamos en los máximos.\n",
    "* El quantil 25% del consumo de establecimientos mixtos es 0, lo que pudiera indicar que se omitió el reporte de consumo en esas manzanas.\n",
    "* En general, observamos amplias diferencias entre las medias y las medianas de los consumos. Esto sugiere que la distribución de las variables no es simétrica con respecto a la media.\n",
    "* La mediana siempre es menor a la media, lo cual significa que la distribución de las variables tienen sesgo positivo (están sesgadas a la derecha). Adicionalmente, esto se puede corroborar con el coeficiente de simetría (skew) que siempre es mayor a cero en todas las variables.\n",
    "* Dados los coeficientes de curtosis (kurt) mayores a cero, notamos que todas las variables son leptocúrticas.\n",
    "* Sólo en los consumos mixtos y domésticos se encontraron valores faltantes. La proporción de missings en establecimientos mixtos supera el 10% del total de los registros.\n",
    "* En ningún caso, se encontraron valores faltantes en las variables de consumo de establecimientos no domésticos, lo cual puede ser un error ya que esto implica que en todas las manzanas siempre hay establecimientos de este tipo (pero sabemos que esto no pasa en manzanas exclusivas para zonas residenciales)."
   ]
  },
  {
   "cell_type": "markdown",
   "metadata": {},
   "source": [
    "**Data profiling de las variables categóricas:**"
   ]
  },
  {
   "cell_type": "code",
   "execution_count": 6,
   "metadata": {},
   "outputs": [],
   "source": [
    "#Aquí va el código del Resumen de variables categóricas\n"
   ]
  },
  {
   "cell_type": "markdown",
   "metadata": {},
   "source": [
    "**Hallazgos:**\n",
    "\n",
    "* No se cuenta con valores nulos en la base.\n",
    "* Podemos notar que la variable gid no tiene valores repetidos y podríamos identificarla como un id.\n",
    "* Identificamos que en la variable nomgeo existe un error de captura ya que se encontraron 17 valores únicos en los que se distingue la delegación tlalpan y talpan. Por otro lado, la variable de alcaldias tiene 16 valores únicos y la observación de talpan no existe. Por ello, omitiremos del análisis nomgeo y en su lugar sólo usaremos la de alcaldía.\n",
    "* Se encontraron un total de 1,340 colonias en la base de consumo de agua de CDMX.\n",
    "* La variable indice_des se divide en 4 categorías: alto, medio, bajo y popular.\n"
   ]
  },
  {
   "cell_type": "markdown",
   "metadata": {},
   "source": [
    "Respecto a lo anterior, podemos hacernos las siguientes preguntas:\n",
    "\n",
    "¿El consumo de agua tiene alguna relación con la alcaldía? (Barplot)\n",
    "\n",
    "Identificamos que el consumo de agua total promedio por manzana es superior en la alcaldía de Cuajimalpa, seguida por Miguel Hidalgo. Mientras que Milpa Alta y Tlahuac es la delegación con menor consumo.\n",
    "\n",
    "¿Se mantiene el nivel de consumo de agua en colonias de una misma alcaldía? (Stripplot)\n",
    "\n",
    "¿Entre más alto es el índice de desarrollo, mayor el consumo de agua? (barplot)\n",
    "No se encontró una relación directa entre estas dos variables dado que el consumo popular es más grande que en bajo y medio pero el alto es el nivel con mayor consumo\n",
    "¿En tipo de establecimiento mixto se consume más agua? (histograma por tipo de establecimiento)\n",
    "¿Hay diferencias significativas en el consumo de agua total por bimestre? (Diagrama de caja y brazos)\n",
    "Se observa que en general el consumo promedio no varía por bimestre. Por ello, incluir la variable bimesre como modelo predictivo.\n",
    "\n",
    "Para responderlas y poder comprender más los datos se realizaron las siguientes gráficas:\n",
    "\n",
    "\n",
    "\n",
    "En las cuales podemos obervar que...\n",
    "\n",
    "Respuestas a las preguntas anteriores\n",
    "\n",
    "\n",
    "variables para el modelo??\n"
   ]
  },
  {
   "cell_type": "code",
   "execution_count": null,
   "metadata": {},
   "outputs": [],
   "source": []
  }
 ],
 "metadata": {
  "kernelspec": {
   "display_name": "Environment de ipykernel_p3",
   "language": "python",
   "name": "myipykernel_py3env"
  },
  "language_info": {
   "codemirror_mode": {
    "name": "ipython",
    "version": 3
   },
   "file_extension": ".py",
   "mimetype": "text/x-python",
   "name": "python",
   "nbconvert_exporter": "python",
   "pygments_lexer": "ipython3",
   "version": "3.7.4"
  }
 },
 "nbformat": 4,
 "nbformat_minor": 4
}

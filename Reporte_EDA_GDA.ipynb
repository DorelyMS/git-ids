{
 "cells": [
  {
   "cell_type": "markdown",
   "metadata": {
    "hideCode": false,
    "hidePrompt": false
   },
   "source": [
    "## Base de consumo de agua por manzana en la Ciudad de México."
   ]
  },
  {
   "cell_type": "markdown",
   "metadata": {
    "hideCode": false,
    "hidePrompt": false
   },
   "source": [
    "## Nota aclaratoria\n",
    "\n",
    "\n",
    "Se agrega la información de las variables según la nota aclaratoria de los datos encontrada en: https://datos.cdmx.gob.mx/api/datasets/1.0/consumo-agua/attachments/nota_aclaratoria_xlsx/\n",
    "\n",
    "**Tipos de emisión**\n",
    "\n",
    "* Consumo medido: Tratándose de tomas de agua donde se encuentre instalado o autorizado el medidor de consumo por parte del Sistema de Aguas.\n",
    "* Consumo promedio: El consumo promedio se considerará de la siguiente manera:\n",
    "    - A falta de aparato medidor, en proceso de instalación o por imposibilidad material para ser instalado, dicho consumo promedio corresponderá a la colonia catastral en el que se encuentra el inmueble en que esté instalada la toma, siempre y cuando dicha colonia catastral el número de tomas con servicio medido sea mayor o igual al 70% del total de las tomas existentes en la colonia. El Sistema de Aguas publicará anualmente en la Gaceta Oficial de la Ciudad de México, la lista de las colonias catastrales que vayan contando con un 70% o más tomas con servicio medido, así como el consumo promedio de cada una de ellas en el ejercicio fiscal inmediato anterior.\n",
    "    - Por descompostura del aparato medidor de consumo o cuando exista la imposibilidad de efectuar su lectura, se pagará tomando como base el consumo promedio de los últimos seis bimestres medidos del mismo uso que el actual anteriores al que se factura, sin que exceda de los últimos cinco ejercicios fiscales, quedando fuera de la estadística, el bimestre con facturación más alta.\n",
    "\n",
    "**Uso**\n",
    "\n",
    "* Doméstico: Inmuebles de uso Habitacional.\n",
    "* No Doméstico: Inmuebles de uso no Habitacional.\n",
    "* Mixto: Inmuebles de uso Doméstico y No Doméstico simultáneamente.\n",
    "\n",
    "**Manzana**\n",
    "\n",
    "* Es un segmento de la región que regularmente está delimitado por tres o más calles o límites semejantes, representada por los tres siguientes dígitos del mencionado número de cuenta catastral.\n",
    "\n",
    "**Región**\n",
    "\n",
    "* Circunscripción convencional del territorio de la Ciudad de México determinada con fines de control catastral de los inmuebles, representada por los tres primeros dígitos del número de cuenta catastral asignado por la autoridad fiscal.\n",
    "\n",
    "**Índice de Desarrollo**\n",
    "\n",
    "* Índice de Desarrollo: Construcción estadística mediante variables de tipo socioeconómico derivadas de información oficial, permite diferenciar territorialmente a la población de la Ciudad de México de acuerdo a su nivel de desarrollo económico, agregando la información a nivel manzana.\n",
    "    - Popular: Clasificación que engloba a las manzanas que guardan características socioeconómicas similares y que se tipifican por tener los niveles de desarrollo más bajos de la Ciudad. En esta categoría se agrupa, además, las manzana que se encuentran dentro de la zona rural de la Ciudad de México.\n",
    "    \n",
    "    - Bajo: Clasificación que engloba a las manzanas que guardan características socioeconómicas similares y que se tipifican por tener niveles de desarrollo bajo de la Ciudad.\n",
    "    \n",
    "    - Medio: Clasificación que engloba a las manzanas que guardan características socioeconómicas similares y que se tipifican por tener niveles de desarrollo medio de la Ciudad.\n",
    "    \n",
    "    - Alto: Clasificación que engloba a las manzanas que guardan características socioeconómicas  similares y que se tipifican por tener niveles los más altos niveles de desarrollo de la Ciudad."
   ]
  },
  {
   "cell_type": "markdown",
   "metadata": {
    "hideCode": false,
    "hidePrompt": false
   },
   "source": [
    "## Análisis Exploratorio de Datos de la base de consumo de agua por manzana en la Ciudad de México."
   ]
  },
  {
   "cell_type": "markdown",
   "metadata": {
    "hideCode": false,
    "hidePrompt": false
   },
   "source": [
    "\n",
    "\n",
    "Una vez hecha la carga, limpieza y transformación de la información, se obtuvieron las siguientes variables:\n",
    "\n",
    "**Variables numéricas:**\n",
    "\n",
    "* consumo_total_mixto,     float64\n",
    "* anio,                     int64\n",
    "* consumo_prom_dom,        float64\n",
    "* consumo_total_dom,       float64\n",
    "* consumo_prom_mixto,      float64\n",
    "* consumo_total,           float64\n",
    "* consumo_prom,            float64\n",
    "* consumo_prom_no_dom,     float64\n",
    "* consumo_total_no_dom,    float64\n",
    "* latitud,                 float64\n",
    "* longitud,                float64\n",
    "\n",
    "**Variables categóricas:**\n",
    "\n",
    "* nomgeo,                   object\n",
    "* alcaldia,                 object\n",
    "* colonia,                  object\n",
    "* bimestre,                 object\n",
    "* gid,                      object\n",
    "* indice_des,               object"
   ]
  },
  {
   "cell_type": "markdown",
   "metadata": {
    "hideCode": false,
    "hidePrompt": false
   },
   "source": [
    "Variables que antes tenían los siguientes nombres:"
   ]
  },
  {
   "cell_type": "code",
   "execution_count": 3,
   "metadata": {
    "hideCode": false,
    "hidePrompt": false
   },
   "outputs": [
    {
     "name": "stdout",
     "output_type": "stream",
     "text": [
      "Antes:\n",
      "\n",
      " Index(['Geo Point', 'Geo Shape', 'consumo_total_mixto', 'anio', 'nomgeo',\n",
      "       'consumo_prom_dom', 'consumo_total_dom', 'alcaldia', 'colonia',\n",
      "       'consumo_prom_mixto', 'consumo_total', 'consumo_prom',\n",
      "       'consumo_prom_no_dom', 'bimestre', 'consumo_total_no_dom', 'gid',\n",
      "       'indice_des'],\n",
      "      dtype='object') \n",
      " \n",
      "Ahora:\n",
      "\n",
      " Index(['geo_point', 'geo_shape', 'consumo_total_mixto', 'anio', 'nomgeo',\n",
      "       'consumo_prom_dom', 'consumo_total_dom', 'alcaldia', 'colonia',\n",
      "       'consumo_prom_mixto', 'consumo_total', 'consumo_prom',\n",
      "       'consumo_prom_no_dom', 'bimestre', 'consumo_total_no_dom', 'gid',\n",
      "       'indice_des'],\n",
      "      dtype='object')\n"
     ]
    }
   ],
   "source": [
    "import load_data\n",
    "import clean_data\n",
    "import transform_data\n",
    "import eda\n",
    "\n",
    "datos=load_data.carga_archivo('consumo-agua.csv')\n",
    "clean_data.estandariza_variables(datos)\n",
    "transform_data.separar_variable(datos,'geo_point','latitud','longitud',',')\n",
    "transform_data.eliminar_variable(datos,'geo_point')\n",
    "transform_data.eliminar_variable(datos,'geo_shape')\n",
    "transform_data.cambiar_tipo_variable(datos,'latitud','float64')\n",
    "transform_data.cambiar_tipo_variable(datos,'longitud','float64')\n",
    "transform_data.cambiar_tipo_variable(datos,'bimestre','str')\n",
    "transform_data.cambiar_tipo_variable(datos,'gid','str')\n",
    "transform_data.cambiar_minusculas_variable(datos,'colonia')\n",
    "transform_data.cambiar_minusculas_variable(datos,'alcaldia')\n",
    "transform_data.cambiar_minusculas_variable(datos,'indice_des')\n",
    "transform_data.quitar_acentos(datos)"
   ]
  },
  {
   "cell_type": "markdown",
   "metadata": {
    "hideCode": false,
    "hidePrompt": false
   },
   "source": [
    "Y a las cuales se les aplicó un resúmen estadístico (data profiling), dando por resultado lo siguiente:\n",
    "\n",
    "**Data profiling de las variables numéricas:**"
   ]
  },
  {
   "cell_type": "code",
   "execution_count": 4,
   "metadata": {
    "hideCode": false,
    "hidePrompt": false
   },
   "outputs": [
    {
     "data": {
      "text/html": [
       "<div>\n",
       "<style scoped>\n",
       "    .dataframe tbody tr th:only-of-type {\n",
       "        vertical-align: middle;\n",
       "    }\n",
       "\n",
       "    .dataframe tbody tr th {\n",
       "        vertical-align: top;\n",
       "    }\n",
       "\n",
       "    .dataframe thead th {\n",
       "        text-align: right;\n",
       "    }\n",
       "</style>\n",
       "<table border=\"1\" class=\"dataframe\">\n",
       "  <thead>\n",
       "    <tr style=\"text-align: right;\">\n",
       "      <th></th>\n",
       "      <th>consumo_total_mixto</th>\n",
       "      <th>anio</th>\n",
       "      <th>consumo_prom_dom</th>\n",
       "      <th>consumo_total_dom</th>\n",
       "      <th>consumo_prom_mixto</th>\n",
       "      <th>consumo_total</th>\n",
       "      <th>consumo_prom</th>\n",
       "      <th>consumo_prom_no_dom</th>\n",
       "      <th>consumo_total_no_dom</th>\n",
       "      <th>latitud</th>\n",
       "      <th>longitud</th>\n",
       "    </tr>\n",
       "  </thead>\n",
       "  <tbody>\n",
       "    <tr>\n",
       "      <th>max</th>\n",
       "      <td>23404.440000</td>\n",
       "      <td>2019.0</td>\n",
       "      <td>7796.410000</td>\n",
       "      <td>95060.690000</td>\n",
       "      <td>11702.220000</td>\n",
       "      <td>119726.940000</td>\n",
       "      <td>89691.773438</td>\n",
       "      <td>89691.773438</td>\n",
       "      <td>119726.940000</td>\n",
       "      <td>19.579103</td>\n",
       "      <td>-98.950469</td>\n",
       "    </tr>\n",
       "    <tr>\n",
       "      <th>min</th>\n",
       "      <td>0.000000</td>\n",
       "      <td>2019.0</td>\n",
       "      <td>0.000000</td>\n",
       "      <td>0.000000</td>\n",
       "      <td>0.000000</td>\n",
       "      <td>0.000000</td>\n",
       "      <td>0.000000</td>\n",
       "      <td>0.000000</td>\n",
       "      <td>0.000000</td>\n",
       "      <td>19.135867</td>\n",
       "      <td>-99.337703</td>\n",
       "    </tr>\n",
       "    <tr>\n",
       "      <th>mean</th>\n",
       "      <td>174.359929</td>\n",
       "      <td>2019.0</td>\n",
       "      <td>29.132386</td>\n",
       "      <td>1186.263611</td>\n",
       "      <td>50.636234</td>\n",
       "      <td>1695.847222</td>\n",
       "      <td>111.217399</td>\n",
       "      <td>126.760172</td>\n",
       "      <td>436.060309</td>\n",
       "      <td>19.392273</td>\n",
       "      <td>-99.132896</td>\n",
       "    </tr>\n",
       "    <tr>\n",
       "      <th>std</th>\n",
       "      <td>312.663596</td>\n",
       "      <td>0.0</td>\n",
       "      <td>64.565925</td>\n",
       "      <td>2771.038307</td>\n",
       "      <td>130.408673</td>\n",
       "      <td>3555.697457</td>\n",
       "      <td>1069.949262</td>\n",
       "      <td>1095.817805</td>\n",
       "      <td>2126.152162</td>\n",
       "      <td>0.070549</td>\n",
       "      <td>0.057890</td>\n",
       "    </tr>\n",
       "    <tr>\n",
       "      <th>q25</th>\n",
       "      <td>0.000000</td>\n",
       "      <td>2019.0</td>\n",
       "      <td>18.690547</td>\n",
       "      <td>161.635000</td>\n",
       "      <td>0.000000</td>\n",
       "      <td>340.952500</td>\n",
       "      <td>23.010139</td>\n",
       "      <td>6.275417</td>\n",
       "      <td>10.980000</td>\n",
       "      <td>19.344073</td>\n",
       "      <td>-99.172484</td>\n",
       "    </tr>\n",
       "    <tr>\n",
       "      <th>median</th>\n",
       "      <td>79.940000</td>\n",
       "      <td>2019.0</td>\n",
       "      <td>26.414248</td>\n",
       "      <td>604.185000</td>\n",
       "      <td>33.451667</td>\n",
       "      <td>896.175000</td>\n",
       "      <td>31.693818</td>\n",
       "      <td>19.280000</td>\n",
       "      <td>54.055000</td>\n",
       "      <td>19.392910</td>\n",
       "      <td>-99.135196</td>\n",
       "    </tr>\n",
       "    <tr>\n",
       "      <th>q75</th>\n",
       "      <td>233.320000</td>\n",
       "      <td>2019.0</td>\n",
       "      <td>36.246563</td>\n",
       "      <td>1261.445000</td>\n",
       "      <td>61.216548</td>\n",
       "      <td>1808.902500</td>\n",
       "      <td>45.484917</td>\n",
       "      <td>54.186875</td>\n",
       "      <td>230.430000</td>\n",
       "      <td>19.446818</td>\n",
       "      <td>-99.096633</td>\n",
       "    </tr>\n",
       "    <tr>\n",
       "      <th>skew</th>\n",
       "      <td>21.765355</td>\n",
       "      <td>0.0</td>\n",
       "      <td>74.818629</td>\n",
       "      <td>12.523204</td>\n",
       "      <td>43.600444</td>\n",
       "      <td>10.998260</td>\n",
       "      <td>43.382682</td>\n",
       "      <td>40.716543</td>\n",
       "      <td>22.507368</td>\n",
       "      <td>-0.220968</td>\n",
       "      <td>0.124723</td>\n",
       "    </tr>\n",
       "    <tr>\n",
       "      <th>kurt</th>\n",
       "      <td>1419.360189</td>\n",
       "      <td>0.0</td>\n",
       "      <td>7663.654738</td>\n",
       "      <td>248.041305</td>\n",
       "      <td>3263.991441</td>\n",
       "      <td>195.877528</td>\n",
       "      <td>2599.541185</td>\n",
       "      <td>2364.161672</td>\n",
       "      <td>798.074926</td>\n",
       "      <td>-0.329997</td>\n",
       "      <td>0.033179</td>\n",
       "    </tr>\n",
       "    <tr>\n",
       "      <th>count</th>\n",
       "      <td>62775.000000</td>\n",
       "      <td>71102.0</td>\n",
       "      <td>66282.000000</td>\n",
       "      <td>66282.000000</td>\n",
       "      <td>62775.000000</td>\n",
       "      <td>71102.000000</td>\n",
       "      <td>71102.000000</td>\n",
       "      <td>71102.000000</td>\n",
       "      <td>71102.000000</td>\n",
       "      <td>71102.000000</td>\n",
       "      <td>71102.000000</td>\n",
       "    </tr>\n",
       "    <tr>\n",
       "      <th>uniques</th>\n",
       "      <td>24339.000000</td>\n",
       "      <td>1.0</td>\n",
       "      <td>52060.000000</td>\n",
       "      <td>47051.000000</td>\n",
       "      <td>31911.000000</td>\n",
       "      <td>56015.000000</td>\n",
       "      <td>62214.000000</td>\n",
       "      <td>37440.000000</td>\n",
       "      <td>27336.000000</td>\n",
       "      <td>22930.000000</td>\n",
       "      <td>22930.000000</td>\n",
       "    </tr>\n",
       "    <tr>\n",
       "      <th>missings</th>\n",
       "      <td>8327.000000</td>\n",
       "      <td>0.0</td>\n",
       "      <td>4820.000000</td>\n",
       "      <td>4820.000000</td>\n",
       "      <td>8327.000000</td>\n",
       "      <td>0.000000</td>\n",
       "      <td>0.000000</td>\n",
       "      <td>0.000000</td>\n",
       "      <td>0.000000</td>\n",
       "      <td>0.000000</td>\n",
       "      <td>0.000000</td>\n",
       "    </tr>\n",
       "    <tr>\n",
       "      <th>prop_missings</th>\n",
       "      <td>11.711344</td>\n",
       "      <td>0.0</td>\n",
       "      <td>6.778994</td>\n",
       "      <td>6.778994</td>\n",
       "      <td>11.711344</td>\n",
       "      <td>0.000000</td>\n",
       "      <td>0.000000</td>\n",
       "      <td>0.000000</td>\n",
       "      <td>0.000000</td>\n",
       "      <td>0.000000</td>\n",
       "      <td>0.000000</td>\n",
       "    </tr>\n",
       "  </tbody>\n",
       "</table>\n",
       "</div>"
      ],
      "text/plain": [
       "               consumo_total_mixto     anio  consumo_prom_dom  \\\n",
       "max                   23404.440000   2019.0       7796.410000   \n",
       "min                       0.000000   2019.0          0.000000   \n",
       "mean                    174.359929   2019.0         29.132386   \n",
       "std                     312.663596      0.0         64.565925   \n",
       "q25                       0.000000   2019.0         18.690547   \n",
       "median                   79.940000   2019.0         26.414248   \n",
       "q75                     233.320000   2019.0         36.246563   \n",
       "skew                     21.765355      0.0         74.818629   \n",
       "kurt                   1419.360189      0.0       7663.654738   \n",
       "count                 62775.000000  71102.0      66282.000000   \n",
       "uniques               24339.000000      1.0      52060.000000   \n",
       "missings               8327.000000      0.0       4820.000000   \n",
       "prop_missings            11.711344      0.0          6.778994   \n",
       "\n",
       "               consumo_total_dom  consumo_prom_mixto  consumo_total  \\\n",
       "max                 95060.690000        11702.220000  119726.940000   \n",
       "min                     0.000000            0.000000       0.000000   \n",
       "mean                 1186.263611           50.636234    1695.847222   \n",
       "std                  2771.038307          130.408673    3555.697457   \n",
       "q25                   161.635000            0.000000     340.952500   \n",
       "median                604.185000           33.451667     896.175000   \n",
       "q75                  1261.445000           61.216548    1808.902500   \n",
       "skew                   12.523204           43.600444      10.998260   \n",
       "kurt                  248.041305         3263.991441     195.877528   \n",
       "count               66282.000000        62775.000000   71102.000000   \n",
       "uniques             47051.000000        31911.000000   56015.000000   \n",
       "missings             4820.000000         8327.000000       0.000000   \n",
       "prop_missings           6.778994           11.711344       0.000000   \n",
       "\n",
       "               consumo_prom  consumo_prom_no_dom  consumo_total_no_dom  \\\n",
       "max            89691.773438         89691.773438         119726.940000   \n",
       "min                0.000000             0.000000              0.000000   \n",
       "mean             111.217399           126.760172            436.060309   \n",
       "std             1069.949262          1095.817805           2126.152162   \n",
       "q25               23.010139             6.275417             10.980000   \n",
       "median            31.693818            19.280000             54.055000   \n",
       "q75               45.484917            54.186875            230.430000   \n",
       "skew              43.382682            40.716543             22.507368   \n",
       "kurt            2599.541185          2364.161672            798.074926   \n",
       "count          71102.000000         71102.000000          71102.000000   \n",
       "uniques        62214.000000         37440.000000          27336.000000   \n",
       "missings           0.000000             0.000000              0.000000   \n",
       "prop_missings      0.000000             0.000000              0.000000   \n",
       "\n",
       "                    latitud      longitud  \n",
       "max               19.579103    -98.950469  \n",
       "min               19.135867    -99.337703  \n",
       "mean              19.392273    -99.132896  \n",
       "std                0.070549      0.057890  \n",
       "q25               19.344073    -99.172484  \n",
       "median            19.392910    -99.135196  \n",
       "q75               19.446818    -99.096633  \n",
       "skew              -0.220968      0.124723  \n",
       "kurt              -0.329997      0.033179  \n",
       "count          71102.000000  71102.000000  \n",
       "uniques        22930.000000  22930.000000  \n",
       "missings           0.000000      0.000000  \n",
       "prop_missings      0.000000      0.000000  "
      ]
     },
     "execution_count": 4,
     "metadata": {},
     "output_type": "execute_result"
    }
   ],
   "source": [
    "eda.tabla_estadisticos_descriptivos_variables_numericas(datos)"
   ]
  },
  {
   "cell_type": "markdown",
   "metadata": {
    "hideCode": false,
    "hidePrompt": false
   },
   "source": [
    "**Hallazgos:**\n",
    "\n",
    "* Identificamos que los valores máximos de las variables de consumo son signicativamente más grandes que el cuantil del 75%, lo cual indica que existen valores atípicos con consumos extremadamente altos.\n",
    "* Observamos que el valor mínimo de las variables de consumo es cero lo cual indicaría que no hay una medición en algunas de las manzanas.\n",
    "* La media del consumo total en establecimientos domésticos es superior al consumo total en no domésticos y establecimientos mixtos.\n",
    "* Sin embargo, la media del consumo promedio en establecimientos no domésticos es la más grande, seguido de los mixtos y por último, los  domésticos. \n",
    "* El consumo total siempre es mayor o igual al consumo promedio ya que basados en la nota aclaratoria de los datos, el consumo promedio se considera cuando no hay un aparato medidor instalado o por descomportura que imposibilite la lectura del consumo.\n",
    "* Las desviaciones estándar son altas respecto a la media debido a los valores atípicos que identificamos en los máximos.\n",
    "* El quantil 25% del consumo de establecimientos mixtos es cero, lo que pudiera indicar que se omitió el reporte de consumo en esas manzanas.\n",
    "* En general, observamos amplias diferencias entre las medias y las medianas de los consumos. Esto sugiere que la distribución de las variables no es simétrica con respecto a la media.\n",
    "* La mediana siempre es menor a la media, lo cual significa que la distribución de las variables tienen sesgo positivo (están sesgadas a la derecha). Adicionalmente, esto se puede corroborar con el coeficiente de simetría (skew) que siempre es mayor a cero en todas las variables.\n",
    "* Dados los coeficientes de curtosis (kurt) mayores a cero, notamos que todas las variables son leptocúrticas.\n",
    "* Sólo en los consumos mixtos y domésticos se encontraron valores faltantes. La proporción de missings en establecimientos mixtos supera el 10% del total de los registros.\n",
    "* En ningún caso, se encontraron valores faltantes en las variables de consumo de establecimientos no domésticos, lo cual puede ser un error ya que esto implica que en todas las manzanas siempre hay establecimientos de este tipo (pero sabemos que esto no pasa en manzanas exclusivas para zonas residenciales)."
   ]
  },
  {
   "cell_type": "markdown",
   "metadata": {
    "hideCode": false,
    "hidePrompt": false
   },
   "source": [
    "**Data profiling de las variables categóricas:**"
   ]
  },
  {
   "cell_type": "code",
   "execution_count": 5,
   "metadata": {
    "hideCode": false,
    "hidePrompt": false,
    "scrolled": true
   },
   "outputs": [
    {
     "data": {
      "text/html": [
       "<div>\n",
       "<style scoped>\n",
       "    .dataframe tbody tr th:only-of-type {\n",
       "        vertical-align: middle;\n",
       "    }\n",
       "\n",
       "    .dataframe tbody tr th {\n",
       "        vertical-align: top;\n",
       "    }\n",
       "\n",
       "    .dataframe thead th {\n",
       "        text-align: right;\n",
       "    }\n",
       "</style>\n",
       "<table border=\"1\" class=\"dataframe\">\n",
       "  <thead>\n",
       "    <tr style=\"text-align: right;\">\n",
       "      <th></th>\n",
       "      <th>nomgeo</th>\n",
       "      <th>alcaldia</th>\n",
       "      <th>colonia</th>\n",
       "      <th>bimestre</th>\n",
       "      <th>gid</th>\n",
       "      <th>indice_des</th>\n",
       "    </tr>\n",
       "  </thead>\n",
       "  <tbody>\n",
       "    <tr>\n",
       "      <th>count</th>\n",
       "      <td>71102</td>\n",
       "      <td>71102</td>\n",
       "      <td>71102</td>\n",
       "      <td>71102</td>\n",
       "      <td>71102</td>\n",
       "      <td>71102</td>\n",
       "    </tr>\n",
       "    <tr>\n",
       "      <th>uniques</th>\n",
       "      <td>17</td>\n",
       "      <td>16</td>\n",
       "      <td>1340</td>\n",
       "      <td>3</td>\n",
       "      <td>71102</td>\n",
       "      <td>4</td>\n",
       "    </tr>\n",
       "    <tr>\n",
       "      <th>uniques_list</th>\n",
       "      <td>[Azcapotzalco, Venustiano Carranza, Milpa Alta...</td>\n",
       "      <td>[azcapotzalco, venustiano carranza, milpa alta...</td>\n",
       "      <td>[tierra nueva, san antonio, ex hacienda del ro...</td>\n",
       "      <td>[1, 2, 3]</td>\n",
       "      <td>[10206, 10203, 10211, 10217, 10220, 10252, 102...</td>\n",
       "      <td>[bajo, medio, popular, alto]</td>\n",
       "    </tr>\n",
       "    <tr>\n",
       "      <th>missings</th>\n",
       "      <td>0</td>\n",
       "      <td>0</td>\n",
       "      <td>0</td>\n",
       "      <td>0</td>\n",
       "      <td>0</td>\n",
       "      <td>0</td>\n",
       "    </tr>\n",
       "    <tr>\n",
       "      <th>prop_missings</th>\n",
       "      <td>0</td>\n",
       "      <td>0</td>\n",
       "      <td>0</td>\n",
       "      <td>0</td>\n",
       "      <td>0</td>\n",
       "      <td>0</td>\n",
       "    </tr>\n",
       "  </tbody>\n",
       "</table>\n",
       "</div>"
      ],
      "text/plain": [
       "                                                          nomgeo  \\\n",
       "count                                                      71102   \n",
       "uniques                                                       17   \n",
       "uniques_list   [Azcapotzalco, Venustiano Carranza, Milpa Alta...   \n",
       "missings                                                       0   \n",
       "prop_missings                                                  0   \n",
       "\n",
       "                                                        alcaldia  \\\n",
       "count                                                      71102   \n",
       "uniques                                                       16   \n",
       "uniques_list   [azcapotzalco, venustiano carranza, milpa alta...   \n",
       "missings                                                       0   \n",
       "prop_missings                                                  0   \n",
       "\n",
       "                                                         colonia   bimestre  \\\n",
       "count                                                      71102      71102   \n",
       "uniques                                                     1340          3   \n",
       "uniques_list   [tierra nueva, san antonio, ex hacienda del ro...  [1, 2, 3]   \n",
       "missings                                                       0          0   \n",
       "prop_missings                                                  0          0   \n",
       "\n",
       "                                                             gid  \\\n",
       "count                                                      71102   \n",
       "uniques                                                    71102   \n",
       "uniques_list   [10206, 10203, 10211, 10217, 10220, 10252, 102...   \n",
       "missings                                                       0   \n",
       "prop_missings                                                  0   \n",
       "\n",
       "                                 indice_des  \n",
       "count                                 71102  \n",
       "uniques                                   4  \n",
       "uniques_list   [bajo, medio, popular, alto]  \n",
       "missings                                  0  \n",
       "prop_missings                             0  "
      ]
     },
     "execution_count": 5,
     "metadata": {},
     "output_type": "execute_result"
    }
   ],
   "source": [
    "eda.tabla_estadisticos_descriptivos_variables_categoricas(datos)"
   ]
  },
  {
   "cell_type": "markdown",
   "metadata": {
    "hideCode": false,
    "hidePrompt": false
   },
   "source": [
    "**Hallazgos:**\n",
    "\n",
    "* No se cuenta con valores nulos en la base.\n",
    "* Podemos notar que la variable gid no tiene valores repetidos y podríamos identificarla como un id.\n",
    "* Identificamos que en la variable nomgeo existe un error de captura ya que se encontraron 17 valores únicos en los que se distingue la delegación tlalpan y talpan. Por otro lado, la variable de alcaldias tiene 16 valores únicos y la observación de talpan no existe. Por ello, omitiremos del análisis nomgeo y en su lugar sólo usaremos la de alcaldía.\n",
    "* Se encontraron un total de 1,340 colonias en la base de consumo de agua de CDMX.\n",
    "* La variable indice_des se divide en 4 categorías: alto, medio, bajo y popular.\n"
   ]
  },
  {
   "cell_type": "markdown",
   "metadata": {
    "hideCode": false,
    "hidePrompt": false
   },
   "source": [
    "Respecto a lo anterior, podemos hacernos las siguientes **preguntas:**\n",
    "\n",
    "1. ¿Cómo es el consumo de agua promedio por manzana en cada alcaldía?\n",
    "2. ¿Se mantiene el nivel de consumo de agua en colonias de una misma alcaldía? (Stripplot)\n",
    "3. ¿Entre más alto es el índice de desarrollo, mayor el consumo de agua?\n",
    "4. ¿En tipo de establecimiento mixto se consume más agua? (histograma por tipo de establecimiento)\n",
    "5. ¿Hay diferencias significativas en el consumo de agua total por bimestre? \n",
    "\n",
    "Para responderlas y poder comprender más los datos se realizaron las siguientes **gráficas:**\n"
   ]
  },
  {
   "cell_type": "code",
   "execution_count": 6,
   "metadata": {
    "hideCode": false,
    "hidePrompt": false
   },
   "outputs": [
    {
     "data": {
      "image/png": "[encoded data removed]",
      "text/plain": [
       "<Figure size 432x288 with 1 Axes>"
      ]
     },
     "metadata": {
      "needs_background": "light"
     },
     "output_type": "display_data"
    }
   ],
   "source": [
    "eda.grafico_barplot_orden_decreciente(datos,'alcaldia','consumo_total','Alcaldía','consumo de agua total','Consumo de agua promedio por manzana en cada alcaldía')"
   ]
  },
  {
   "cell_type": "markdown",
   "metadata": {
    "hideCode": false,
    "hidePrompt": false
   },
   "source": [
    "En la cual podemos obervar que el consumo de agua total promedio por manzana es superior en la alcaldía de Cuajimalpa, seguida por Miguel Hidalgo. Mientras que Milpa Alta y Tlahuac son las delegaciones con menor consumo."
   ]
  },
  {
   "cell_type": "code",
   "execution_count": 7,
   "metadata": {},
   "outputs": [
    {
     "data": {
      "image/png": "[encoded data removed]",
      "text/plain": [
       "<Figure size 360x360 with 1 Axes>"
      ]
     },
     "metadata": {
      "needs_background": "light"
     },
     "output_type": "display_data"
    }
   ],
   "source": [
    "eda.grafico_barplot_orden_en_barras(datos,'indice_des','consumo_total',['popular','bajo','medio','alto'],'Índice de desarrollo','Consumo de agua total','Consumo de agua promedio por índice de desarrollo')"
   ]
  },
  {
   "cell_type": "markdown",
   "metadata": {
    "hideCode": false,
    "hidePrompt": false
   },
   "source": [
    "No se encontró una relación directa entre estas dos variables dado que el consumo popular es más grande que en bajo y medio y el índice de desarrollo medio es menor que el popular y bajo, pero el alto es el nivel con mayor consumo."
   ]
  },
  {
   "cell_type": "code",
   "execution_count": 8,
   "metadata": {},
   "outputs": [
    {
     "data": {
      "image/png": "[encoded data removed]",
      "text/plain": [
       "<Figure size 360x360 with 1 Axes>"
      ]
     },
     "metadata": {
      "needs_background": "light"
     },
     "output_type": "display_data"
    }
   ],
   "source": [
    "eda.grafico_strip(datos,'bimestre','consumo_total','Bimestre de 2019','Consumo de agua total','Consumo de agua promedio por bimestre')"
   ]
  },
  {
   "cell_type": "markdown",
   "metadata": {
    "hideCode": false,
    "hidePrompt": false
   },
   "source": [
    "Se observa que en general el consumo promedio por manzana no varía por bimestre en 2019. Por lo que esta variable no se incluiría en el modelo predictivo."
   ]
  },
  {
   "cell_type": "code",
   "execution_count": null,
   "metadata": {
    "hideCode": false,
    "hidePrompt": false
   },
   "outputs": [],
   "source": [
    "variables para el modelo??"
   ]
  }
 ],
 "metadata": {
  "hide_code_all_hidden": false,
  "kernelspec": {
   "display_name": "Python 3",
   "language": "python",
   "name": "python3"
  },
  "language_info": {
   "codemirror_mode": {
    "name": "ipython",
    "version": 3
   },
   "file_extension": ".py",
   "mimetype": "text/x-python",
   "name": "python",
   "nbconvert_exporter": "python",
   "pygments_lexer": "ipython3",
   "version": "3.7.3"
  }
 },
 "nbformat": 4,
 "nbformat_minor": 4
}
